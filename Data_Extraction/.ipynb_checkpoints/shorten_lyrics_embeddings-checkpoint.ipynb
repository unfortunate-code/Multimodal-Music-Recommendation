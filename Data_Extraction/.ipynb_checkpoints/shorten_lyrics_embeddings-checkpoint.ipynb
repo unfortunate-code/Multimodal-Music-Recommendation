{
 "cells": [
  {
   "cell_type": "code",
   "execution_count": null,
   "id": "454c0cfe",
   "metadata": {},
   "outputs": [],
   "source": [
    "from sklearn.decomposition import PCA"
   ]
  },
  {
   "cell_type": "code",
   "execution_count": null,
   "id": "ddc5daed",
   "metadata": {},
   "outputs": [],
   "source": [
    "import numpy as np\n",
    "import pickle"
   ]
  },
  {
   "cell_type": "code",
   "execution_count": null,
   "id": "923674d0",
   "metadata": {},
   "outputs": [],
   "source": [
    "embeddings_file_name = '../Data/embeddings/lyrics_embeddings_word2vec.pkl'\n",
    "with open(embeddings_file_name, 'rb') as file:\n",
    "    embeddings = pickle.load(file)"
   ]
  },
  {
   "cell_type": "code",
   "execution_count": null,
   "id": "143e5cfc",
   "metadata": {},
   "outputs": [],
   "source": [
    "with open('../Data/MPD_Large/idx2song.data', 'rb') as file:\n",
    "    id2song = pickle.load(file)"
   ]
  },
  {
   "cell_type": "code",
   "execution_count": null,
   "id": "17c7ae06",
   "metadata": {},
   "outputs": [],
   "source": [
    "list(id2song.items())[0]"
   ]
  },
  {
   "cell_type": "code",
   "execution_count": null,
   "id": "4edfaaf8",
   "metadata": {},
   "outputs": [],
   "source": [
    "embeddings_arr = np.zeros((len(id2song.items()), len(list(embeddings.values())[0])), dtype=np.float32)"
   ]
  },
  {
   "cell_type": "code",
   "execution_count": null,
   "id": "f7129329",
   "metadata": {},
   "outputs": [],
   "source": [
    "missing = []\n",
    "for i in range(len(id2song.items())):\n",
    "    if id2song[i] in embeddings:\n",
    "        embeddings_arr[i] = embeddings[id2song[i]]\n",
    "    else:\n",
    "        missing.append(i)\n",
    "print(len(missing))\n",
    "print(np.isnan(embeddings_arr).sum())"
   ]
  },
  {
   "cell_type": "code",
   "execution_count": null,
   "id": "d87f8123",
   "metadata": {},
   "outputs": [],
   "source": [
    "avg_embedding = embeddings_arr.sum(axis = 0)\n",
    "avg_embedding /= (len(id2song.items()) - len(missing))\n",
    "print(avg_embedding)"
   ]
  },
  {
   "cell_type": "code",
   "execution_count": null,
   "id": "f29501a6",
   "metadata": {},
   "outputs": [],
   "source": [
    "for i in missing:\n",
    "    embeddings_arr[i] = avg_embedding"
   ]
  },
  {
   "cell_type": "code",
   "execution_count": null,
   "id": "a35663d7",
   "metadata": {},
   "outputs": [],
   "source": [
    "pca = PCA(n_components=128)\n",
    "principal_components = pca.fit_transform(embeddings_arr)"
   ]
  },
  {
   "cell_type": "code",
   "execution_count": null,
   "id": "66c9ddb4",
   "metadata": {},
   "outputs": [],
   "source": [
    "fileName = '../Data/embeddings/word2vec_128.npy'\n",
    "with open(fileName, 'wb') as f:\n",
    "    np.save(f, principal_components)"
   ]
  },
  {
   "cell_type": "code",
   "execution_count": null,
   "id": "849d5456",
   "metadata": {},
   "outputs": [],
   "source": [
    "temp = np.load(fileName)\n",
    "print(temp.shape)"
   ]
  },
  {
   "cell_type": "code",
   "execution_count": null,
   "id": "b63764ba",
   "metadata": {},
   "outputs": [],
   "source": []
  }
 ],
 "metadata": {
  "kernelspec": {
   "display_name": "Python 3 (ipykernel)",
   "language": "python",
   "name": "python3"
  },
  "language_info": {
   "codemirror_mode": {
    "name": "ipython",
    "version": 3
   },
   "file_extension": ".py",
   "mimetype": "text/x-python",
   "name": "python",
   "nbconvert_exporter": "python",
   "pygments_lexer": "ipython3",
   "version": "3.8.12"
  }
 },
 "nbformat": 4,
 "nbformat_minor": 5
}
