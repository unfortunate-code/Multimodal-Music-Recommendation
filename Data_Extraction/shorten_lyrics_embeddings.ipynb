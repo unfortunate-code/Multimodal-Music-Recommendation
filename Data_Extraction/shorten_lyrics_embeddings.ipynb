{
 "cells": [
  {
   "cell_type": "code",
   "execution_count": 1,
   "id": "454c0cfe",
   "metadata": {},
   "outputs": [],
   "source": [
    "from sklearn.decomposition import PCA"
   ]
  },
  {
   "cell_type": "code",
   "execution_count": 2,
   "id": "ddc5daed",
   "metadata": {},
   "outputs": [],
   "source": [
    "import numpy as np\n",
    "import pickle"
   ]
  },
  {
   "cell_type": "code",
   "execution_count": 3,
   "id": "923674d0",
   "metadata": {},
   "outputs": [],
   "source": [
    "embeddings_file_name = '../Data/embeddings/lyrics_embeddings_mpnet.pkl'\n",
    "with open(embeddings_file_name, 'rb') as file:\n",
    "    embeddings = pickle.load(file)"
   ]
  },
  {
   "cell_type": "code",
   "execution_count": 4,
   "id": "143e5cfc",
   "metadata": {},
   "outputs": [],
   "source": [
    "with open('../Data/MPD_Large/idx2song.data', 'rb') as file:\n",
    "    id2song = pickle.load(file)"
   ]
  },
  {
   "cell_type": "code",
   "execution_count": 5,
   "id": "17c7ae06",
   "metadata": {},
   "outputs": [
    {
     "data": {
      "text/plain": [
       "(0, 'spotify:track:6QHYEZlm9wyfXfEM1vSu1P')"
      ]
     },
     "execution_count": 5,
     "metadata": {},
     "output_type": "execute_result"
    }
   ],
   "source": [
    "list(id2song.items())[0]"
   ]
  },
  {
   "cell_type": "code",
   "execution_count": 6,
   "id": "4edfaaf8",
   "metadata": {},
   "outputs": [],
   "source": [
    "embeddings_arr = np.zeros((len(id2song.items()), len(list(embeddings.values())[0])), dtype=np.float32)"
   ]
  },
  {
   "cell_type": "code",
   "execution_count": 7,
   "id": "f7129329",
   "metadata": {},
   "outputs": [
    {
     "name": "stdout",
     "output_type": "stream",
     "text": [
      "5945088\n"
     ]
    }
   ],
   "source": [
    "missing = []\n",
    "for i in range(len(id2song.items())):\n",
    "    if id2song[i] in embeddings:\n",
    "        embeddings_arr[i] = embeddings[id2song[i]]\n",
    "    else:\n",
    "        embeddings_arr[i] = np.NaN\n",
    "# print(len(missing))\n",
    "print(np.isnan(embeddings_arr).sum())"
   ]
  },
  {
   "cell_type": "code",
   "execution_count": 37,
   "id": "d87f8123",
   "metadata": {},
   "outputs": [],
   "source": [
    "# avg_embedding = embeddings_arr.sum(axis = 0)\n",
    "# avg_embedding /= (len(id2song.items()) - len(missing))\n",
    "#print(avg_embedding)"
   ]
  },
  {
   "cell_type": "code",
   "execution_count": 38,
   "id": "f29501a6",
   "metadata": {},
   "outputs": [],
   "source": [
    "# for i in missing:\n",
    "#     embeddings_arr[i] = avg_embedding"
   ]
  },
  {
   "cell_type": "code",
   "execution_count": 39,
   "id": "a35663d7",
   "metadata": {},
   "outputs": [],
   "source": [
    "#pca = PCA(n_components=128)\n",
    "#principal_components = pca.fit_transform(embeddings_arr)"
   ]
  },
  {
   "cell_type": "code",
   "execution_count": 40,
   "id": "66c9ddb4",
   "metadata": {},
   "outputs": [],
   "source": [
    "fileName = '../Data/embeddings/mpnet.npy'\n",
    "with open(fileName, 'wb') as f:\n",
    "    np.save(f, embeddings_arr)"
   ]
  },
  {
   "cell_type": "code",
   "execution_count": 41,
   "id": "849d5456",
   "metadata": {},
   "outputs": [
    {
     "name": "stdout",
     "output_type": "stream",
     "text": [
      "(70229, 768)\n"
     ]
    }
   ],
   "source": [
    "temp = np.load(fileName)\n",
    "print(temp.shape)"
   ]
  },
  {
   "cell_type": "code",
   "execution_count": null,
   "id": "b63764ba",
   "metadata": {},
   "outputs": [],
   "source": []
  }
 ],
 "metadata": {
  "kernelspec": {
   "display_name": "Python 3 (ipykernel)",
   "language": "python",
   "name": "python3"
  },
  "language_info": {
   "codemirror_mode": {
    "name": "ipython",
    "version": 3
   },
   "file_extension": ".py",
   "mimetype": "text/x-python",
   "name": "python",
   "nbconvert_exporter": "python",
   "pygments_lexer": "ipython3",
   "version": "3.8.12"
  }
 },
 "nbformat": 4,
 "nbformat_minor": 5
}
