{
 "cells": [
  {
   "cell_type": "code",
   "execution_count": 1,
   "id": "750c4720",
   "metadata": {},
   "outputs": [],
   "source": [
    "import os\n",
    "import warnings\n",
    "import random\n",
    "from os.path import join\n",
    "import torch\n",
    "import numpy as np\n",
    "import pandas as pd\n",
    "from scipy import sparse"
   ]
  },
  {
   "cell_type": "code",
   "execution_count": 2,
   "id": "b6bcb422",
   "metadata": {},
   "outputs": [
    {
     "data": {
      "text/plain": [
       "'1.10.0'"
      ]
     },
     "execution_count": 2,
     "metadata": {},
     "output_type": "execute_result"
    }
   ],
   "source": [
    "torch.__version__"
   ]
  },
  {
   "cell_type": "code",
   "execution_count": 3,
   "id": "b9cf3d7c",
   "metadata": {},
   "outputs": [
    {
     "name": "stderr",
     "output_type": "stream",
     "text": [
      "Using backend: pytorch\n"
     ]
    }
   ],
   "source": [
    "from utils import eval_sequential\n",
    "import warnings\n",
    "import random\n",
    "from os.path import join\n",
    "import torch\n",
    "import numpy as np\n",
    "import json"
   ]
  },
  {
   "cell_type": "code",
   "execution_count": 4,
   "id": "403dcdb0",
   "metadata": {},
   "outputs": [],
   "source": [
    "warnings.filterwarnings('ignore')\n",
    "\n",
    "# set seed\n",
    "def seed_everything(random_seed):\n",
    "    torch.manual_seed(random_seed)\n",
    "    torch.cuda.manual_seed(random_seed)\n",
    "    torch.cuda.manual_seed_all(random_seed)\n",
    "    torch.backends.cudnn.deterministic = True\n",
    "    torch.backends.cudnn.benchmark = False\n",
    "    np.random.seed(random_seed)\n",
    "    random.seed(random_seed)\n",
    "\n",
    "seed = 1\n",
    "seed_everything(seed)\n",
    "device = torch.device(\"cuda\" if torch.cuda.is_available() else \"cpu\")\n",
    "top_k = 20"
   ]
  },
  {
   "cell_type": "code",
   "execution_count": 5,
   "id": "e0d2a0e8",
   "metadata": {},
   "outputs": [],
   "source": [
    "f = open('data/unique_song_spotify.txt', 'r')\n",
    "data = f.read()\n",
    "f.close()\n",
    "\n",
    "data = data.split(\"\\n\")\n",
    "data = [i.split(\"\\t\") for i in data[:-1]]\n",
    "\n",
    "track2id = dict()\n",
    "id2track = dict()\n",
    "\n",
    "for i in data:\n",
    "    track2id[i[2]] = int(i[-1])\n",
    "    id2track[int(i[-1])] = i[2]"
   ]
  },
  {
   "cell_type": "code",
   "execution_count": 6,
   "id": "39996ec6",
   "metadata": {},
   "outputs": [],
   "source": [
    "import json\n",
    "\n",
    "with open('data/challenge_set.json', 'r') as f:\n",
    "    data = json.load(f)"
   ]
  },
  {
   "cell_type": "code",
   "execution_count": 7,
   "id": "d23ca917",
   "metadata": {},
   "outputs": [
    {
     "name": "stdout",
     "output_type": "stream",
     "text": [
      "# of users: 8000,  # of items: 66243\n"
     ]
    }
   ],
   "source": [
    "playlists = []\n",
    "\n",
    "for playlist in data[\"playlists\"]:\n",
    "    if len(playlist['tracks'])>2:\n",
    "        pl = []\n",
    "        for track in playlist['tracks']:\n",
    "            pl.append(track2id[track['track_uri']])\n",
    "            \n",
    "        playlists.append(pl)\n",
    "        \n",
    "\n",
    "num_users = len(playlists)\n",
    "num_items = len(track2id)\n",
    "\n",
    "print(f\"# of users: {num_users},  # of items: {num_items}\")\n",
    "\n",
    "music_data = dict()\n",
    "for idx, i in enumerate(playlists):\n",
    "    music_data[idx] = i\n",
    "    \n",
    "    \n",
    "user_train_music = dict()\n",
    "user_valid_music = dict()\n",
    "user_test_music = dict()\n",
    "\n",
    "for u in music_data:\n",
    "    user_valid_music[u] = [music_data[u][-2]]\n",
    "    user_test_music[u] = [music_data[u][-1]]\n",
    "    user_train_music[u] = music_data[u][:-2]"
   ]
  },
  {
   "cell_type": "code",
   "execution_count": 8,
   "id": "63d39fb6",
   "metadata": {},
   "outputs": [],
   "source": [
    "top_k = 100"
   ]
  },
  {
   "cell_type": "code",
   "execution_count": 10,
   "id": "cbb85186",
   "metadata": {},
   "outputs": [
    {
     "name": "stderr",
     "output_type": "stream",
     "text": [
      "  6%|██████▊                                                                                                     | 4/63 [00:02<00:31,  1.85it/s]\n"
     ]
    },
    {
     "ename": "KeyboardInterrupt",
     "evalue": "",
     "output_type": "error",
     "traceback": [
      "\u001b[0;31m---------------------------------------------------------------------------\u001b[0m",
      "\u001b[0;31mKeyboardInterrupt\u001b[0m                         Traceback (most recent call last)",
      "\u001b[0;32m/var/folders/27/fcv785895zb4wczv3dzgn3gh0000gn/T/ipykernel_62246/223373822.py\u001b[0m in \u001b[0;36m<module>\u001b[0;34m\u001b[0m\n\u001b[1;32m      8\u001b[0m TransRec = TransRec_sequential(user_train_music, user_valid_music, user_num=num_users, item_num=num_items, emb_dim=200, maxlen=1,\n\u001b[1;32m      9\u001b[0m                                 num_epochs=100, eval_every=1, early_stop_trial=5, learning_rate=0.001, reg_lambda=0.0, batch_size=128, device=device, top_k = 500)\n\u001b[0;32m---> 10\u001b[0;31m \u001b[0mTransRec\u001b[0m\u001b[0;34m.\u001b[0m\u001b[0mfit\u001b[0m\u001b[0;34m(\u001b[0m\u001b[0;34m)\u001b[0m\u001b[0;34m\u001b[0m\u001b[0;34m\u001b[0m\u001b[0m\n\u001b[0m\u001b[1;32m     11\u001b[0m \u001b[0mTransRec_ndcg\u001b[0m\u001b[0;34m,\u001b[0m \u001b[0mTransRec_recall\u001b[0m \u001b[0;34m=\u001b[0m \u001b[0meval_sequential\u001b[0m\u001b[0;34m(\u001b[0m\u001b[0mTransRec\u001b[0m\u001b[0;34m,\u001b[0m \u001b[0muser_train_music\u001b[0m\u001b[0;34m,\u001b[0m \u001b[0muser_valid_music\u001b[0m\u001b[0;34m,\u001b[0m \u001b[0muser_test_music\u001b[0m\u001b[0;34m,\u001b[0m \u001b[0mnum_users\u001b[0m\u001b[0;34m,\u001b[0m \u001b[0mnum_items\u001b[0m\u001b[0;34m,\u001b[0m \u001b[0mtop_k\u001b[0m \u001b[0;34m=\u001b[0m \u001b[0;36m100\u001b[0m\u001b[0;34m,\u001b[0m \u001b[0mmode\u001b[0m\u001b[0;34m=\u001b[0m\u001b[0;34m'test'\u001b[0m\u001b[0;34m)\u001b[0m\u001b[0;34m\u001b[0m\u001b[0;34m\u001b[0m\u001b[0m\n\u001b[1;32m     12\u001b[0m \u001b[0mprint\u001b[0m\u001b[0;34m(\u001b[0m\u001b[0;34mf\"\\n[TransRec]\\t Test_Recall@{top_k} = {TransRec_recall:.4f} Test_NDCG@{top_k} = {TransRec_ndcg:.4f}\"\u001b[0m\u001b[0;34m)\u001b[0m\u001b[0;34m\u001b[0m\u001b[0;34m\u001b[0m\u001b[0m\n",
      "\u001b[0;32m~/Desktop/usc/CSCI - 566/project/baseline/baseline/baseline/models/TransRec_sequential.py\u001b[0m in \u001b[0;36mfit\u001b[0;34m(self)\u001b[0m\n\u001b[1;32m    128\u001b[0m                     \u001b[0mbatch_neg_item\u001b[0m \u001b[0;34m+=\u001b[0m \u001b[0;34m[\u001b[0m\u001b[0mrandom_negitem\u001b[0m\u001b[0;34m(\u001b[0m\u001b[0;36m0\u001b[0m\u001b[0;34m,\u001b[0m \u001b[0mself\u001b[0m\u001b[0;34m.\u001b[0m\u001b[0mitem_num\u001b[0m\u001b[0;34m,\u001b[0m \u001b[0mseq\u001b[0m\u001b[0;34m)\u001b[0m \u001b[0;32mfor\u001b[0m \u001b[0m_\u001b[0m \u001b[0;32min\u001b[0m \u001b[0mrange\u001b[0m\u001b[0;34m(\u001b[0m\u001b[0mlen\u001b[0m\u001b[0;34m(\u001b[0m\u001b[0mseq\u001b[0m\u001b[0;34m)\u001b[0m\u001b[0;34m-\u001b[0m\u001b[0;36m1\u001b[0m\u001b[0;34m)\u001b[0m\u001b[0;34m]\u001b[0m\u001b[0;34m\u001b[0m\u001b[0;34m\u001b[0m\u001b[0m\n\u001b[1;32m    129\u001b[0m \u001b[0;34m\u001b[0m\u001b[0m\n\u001b[0;32m--> 130\u001b[0;31m                 \u001b[0mloss\u001b[0m \u001b[0;34m=\u001b[0m \u001b[0mself\u001b[0m\u001b[0;34m.\u001b[0m\u001b[0mtrain_model_per_batch\u001b[0m\u001b[0;34m(\u001b[0m\u001b[0mbatch_user\u001b[0m\u001b[0;34m,\u001b[0m \u001b[0mbatch_last_item\u001b[0m\u001b[0;34m,\u001b[0m \u001b[0mbatch_next_item\u001b[0m\u001b[0;34m,\u001b[0m \u001b[0mbatch_neg_item\u001b[0m\u001b[0;34m)\u001b[0m\u001b[0;34m\u001b[0m\u001b[0;34m\u001b[0m\u001b[0m\n\u001b[0m\u001b[1;32m    131\u001b[0m \u001b[0;34m\u001b[0m\u001b[0m\n\u001b[1;32m    132\u001b[0m             \u001b[0;31m# Valid\u001b[0m\u001b[0;34m\u001b[0m\u001b[0;34m\u001b[0m\u001b[0;34m\u001b[0m\u001b[0m\n",
      "\u001b[0;32m~/Desktop/usc/CSCI - 566/project/baseline/baseline/baseline/models/TransRec_sequential.py\u001b[0m in \u001b[0;36mtrain_model_per_batch\u001b[0;34m(self, u, last_item, pos_seqs, neg_seqs)\u001b[0m\n\u001b[1;32m    172\u001b[0m \u001b[0;34m\u001b[0m\u001b[0m\n\u001b[1;32m    173\u001b[0m         \u001b[0;31m# backprop\u001b[0m\u001b[0;34m\u001b[0m\u001b[0;34m\u001b[0m\u001b[0;34m\u001b[0m\u001b[0m\n\u001b[0;32m--> 174\u001b[0;31m         \u001b[0mloss\u001b[0m\u001b[0;34m.\u001b[0m\u001b[0mbackward\u001b[0m\u001b[0;34m(\u001b[0m\u001b[0;34m)\u001b[0m\u001b[0;34m\u001b[0m\u001b[0;34m\u001b[0m\u001b[0m\n\u001b[0m\u001b[1;32m    175\u001b[0m \u001b[0;34m\u001b[0m\u001b[0m\n\u001b[1;32m    176\u001b[0m         \u001b[0;31m# weight update\u001b[0m\u001b[0;34m\u001b[0m\u001b[0;34m\u001b[0m\u001b[0;34m\u001b[0m\u001b[0m\n",
      "\u001b[0;32m~/.local/lib/python3.7/site-packages/torch/_tensor.py\u001b[0m in \u001b[0;36mbackward\u001b[0;34m(self, gradient, retain_graph, create_graph, inputs)\u001b[0m\n\u001b[1;32m    305\u001b[0m                 \u001b[0mcreate_graph\u001b[0m\u001b[0;34m=\u001b[0m\u001b[0mcreate_graph\u001b[0m\u001b[0;34m,\u001b[0m\u001b[0;34m\u001b[0m\u001b[0;34m\u001b[0m\u001b[0m\n\u001b[1;32m    306\u001b[0m                 inputs=inputs)\n\u001b[0;32m--> 307\u001b[0;31m         \u001b[0mtorch\u001b[0m\u001b[0;34m.\u001b[0m\u001b[0mautograd\u001b[0m\u001b[0;34m.\u001b[0m\u001b[0mbackward\u001b[0m\u001b[0;34m(\u001b[0m\u001b[0mself\u001b[0m\u001b[0;34m,\u001b[0m \u001b[0mgradient\u001b[0m\u001b[0;34m,\u001b[0m \u001b[0mretain_graph\u001b[0m\u001b[0;34m,\u001b[0m \u001b[0mcreate_graph\u001b[0m\u001b[0;34m,\u001b[0m \u001b[0minputs\u001b[0m\u001b[0;34m=\u001b[0m\u001b[0minputs\u001b[0m\u001b[0;34m)\u001b[0m\u001b[0;34m\u001b[0m\u001b[0;34m\u001b[0m\u001b[0m\n\u001b[0m\u001b[1;32m    308\u001b[0m \u001b[0;34m\u001b[0m\u001b[0m\n\u001b[1;32m    309\u001b[0m     \u001b[0;32mdef\u001b[0m \u001b[0mregister_hook\u001b[0m\u001b[0;34m(\u001b[0m\u001b[0mself\u001b[0m\u001b[0;34m,\u001b[0m \u001b[0mhook\u001b[0m\u001b[0;34m)\u001b[0m\u001b[0;34m:\u001b[0m\u001b[0;34m\u001b[0m\u001b[0;34m\u001b[0m\u001b[0m\n",
      "\u001b[0;32m~/.local/lib/python3.7/site-packages/torch/autograd/__init__.py\u001b[0m in \u001b[0;36mbackward\u001b[0;34m(tensors, grad_tensors, retain_graph, create_graph, grad_variables, inputs)\u001b[0m\n\u001b[1;32m    154\u001b[0m     Variable._execution_engine.run_backward(\n\u001b[1;32m    155\u001b[0m         \u001b[0mtensors\u001b[0m\u001b[0;34m,\u001b[0m \u001b[0mgrad_tensors_\u001b[0m\u001b[0;34m,\u001b[0m \u001b[0mretain_graph\u001b[0m\u001b[0;34m,\u001b[0m \u001b[0mcreate_graph\u001b[0m\u001b[0;34m,\u001b[0m \u001b[0minputs\u001b[0m\u001b[0;34m,\u001b[0m\u001b[0;34m\u001b[0m\u001b[0;34m\u001b[0m\u001b[0m\n\u001b[0;32m--> 156\u001b[0;31m         allow_unreachable=True, accumulate_grad=True)  # allow_unreachable flag\n\u001b[0m\u001b[1;32m    157\u001b[0m \u001b[0;34m\u001b[0m\u001b[0m\n\u001b[1;32m    158\u001b[0m \u001b[0;34m\u001b[0m\u001b[0m\n",
      "\u001b[0;31mKeyboardInterrupt\u001b[0m: "
     ]
    }
   ],
   "source": [
    "\"\"\"\n",
    "TransRec\n",
    "\n",
    "\"\"\"\n",
    "from models.TransRec_sequential import TransRec_sequential\n",
    "\n",
    "seed_everything(seed)\n",
    "TransRec = TransRec_sequential(user_train_music, user_valid_music, user_num=num_users, item_num=num_items, emb_dim=200, maxlen=1,\n",
    "                                num_epochs=100, eval_every=1, early_stop_trial=5, learning_rate=0.001, reg_lambda=0.0, batch_size=128, device=device, top_k = 500)\n",
    "TransRec.fit()\n",
    "TransRec_ndcg, TransRec_recall = eval_sequential(TransRec, user_train_music, user_valid_music, user_test_music, num_users, num_items, top_k = 100, mode='test')\n",
    "print(f\"\\n[TransRec]\\t Test_Recall@{top_k} = {TransRec_recall:.4f} Test_NDCG@{top_k} = {TransRec_ndcg:.4f}\")\n",
    "print(\"parmas :\", sum(p.numel() for p in TransRec.parameters() if p.requires_grad))\n",
    "print(\"======================================\")"
   ]
  },
  {
   "cell_type": "code",
   "execution_count": 11,
   "id": "b10f5103",
   "metadata": {},
   "outputs": [
    {
     "name": "stderr",
     "output_type": "stream",
     "text": [
      "valid: 100%|██████████| 1000/1000 [00:14<00:00, 70.50it/s]\n"
     ]
    },
    {
     "name": "stdout",
     "output_type": "stream",
     "text": [
      "epoch 1 train_loss = 5.4659 valid_recall@100 = 0.0000 valid_ndcg@100 = 0.0000\n"
     ]
    },
    {
     "name": "stderr",
     "output_type": "stream",
     "text": [
      "valid: 100%|██████████| 1000/1000 [00:14<00:00, 70.32it/s]\n"
     ]
    },
    {
     "name": "stdout",
     "output_type": "stream",
     "text": [
      "epoch 2 train_loss = 4.8709 valid_recall@100 = 0.0010 valid_ndcg@100 = 0.0002\n"
     ]
    },
    {
     "name": "stderr",
     "output_type": "stream",
     "text": [
      "valid: 100%|██████████| 1000/1000 [00:14<00:00, 70.19it/s]\n"
     ]
    },
    {
     "name": "stdout",
     "output_type": "stream",
     "text": [
      "epoch 3 train_loss = 3.6717 valid_recall@100 = 0.0000 valid_ndcg@100 = 0.0000\n"
     ]
    },
    {
     "name": "stderr",
     "output_type": "stream",
     "text": [
      "valid: 100%|██████████| 1000/1000 [00:14<00:00, 69.99it/s]\n"
     ]
    },
    {
     "name": "stdout",
     "output_type": "stream",
     "text": [
      "epoch 4 train_loss = 2.9770 valid_recall@100 = 0.0000 valid_ndcg@100 = 0.0000\n"
     ]
    },
    {
     "name": "stderr",
     "output_type": "stream",
     "text": [
      "valid: 100%|██████████| 1000/1000 [00:14<00:00, 70.82it/s]\n"
     ]
    },
    {
     "name": "stdout",
     "output_type": "stream",
     "text": [
      "epoch 5 train_loss = 2.4780 valid_recall@100 = 0.0010 valid_ndcg@100 = 0.0002\n"
     ]
    },
    {
     "name": "stderr",
     "output_type": "stream",
     "text": [
      "valid: 100%|██████████| 1000/1000 [00:14<00:00, 70.19it/s]\n"
     ]
    },
    {
     "name": "stdout",
     "output_type": "stream",
     "text": [
      "epoch 6 train_loss = 2.0928 valid_recall@100 = 0.0020 valid_ndcg@100 = 0.0003\n"
     ]
    },
    {
     "name": "stderr",
     "output_type": "stream",
     "text": [
      "valid: 100%|██████████| 1000/1000 [00:14<00:00, 70.03it/s]\n"
     ]
    },
    {
     "name": "stdout",
     "output_type": "stream",
     "text": [
      "epoch 7 train_loss = 1.7921 valid_recall@100 = 0.0000 valid_ndcg@100 = 0.0000\n"
     ]
    },
    {
     "name": "stderr",
     "output_type": "stream",
     "text": [
      "valid: 100%|██████████| 1000/1000 [00:14<00:00, 70.31it/s]\n"
     ]
    },
    {
     "name": "stdout",
     "output_type": "stream",
     "text": [
      "epoch 8 train_loss = 1.6101 valid_recall@100 = 0.0020 valid_ndcg@100 = 0.0003\n"
     ]
    },
    {
     "name": "stderr",
     "output_type": "stream",
     "text": [
      "valid: 100%|██████████| 1000/1000 [00:14<00:00, 69.35it/s]\n"
     ]
    },
    {
     "name": "stdout",
     "output_type": "stream",
     "text": [
      "epoch 9 train_loss = 1.4679 valid_recall@100 = 0.0010 valid_ndcg@100 = 0.0002\n"
     ]
    },
    {
     "name": "stderr",
     "output_type": "stream",
     "text": [
      "valid: 100%|██████████| 1000/1000 [00:14<00:00, 70.33it/s]\n"
     ]
    },
    {
     "name": "stdout",
     "output_type": "stream",
     "text": [
      "epoch 10 train_loss = 1.4153 valid_recall@100 = 0.0020 valid_ndcg@100 = 0.0005\n"
     ]
    },
    {
     "name": "stderr",
     "output_type": "stream",
     "text": [
      "valid: 100%|██████████| 1000/1000 [00:14<00:00, 70.26it/s]\n"
     ]
    },
    {
     "name": "stdout",
     "output_type": "stream",
     "text": [
      "Early stop at epoch:11\n"
     ]
    },
    {
     "name": "stderr",
     "output_type": "stream",
     "text": [
      "test: 100%|██████████| 8000/8000 [01:54<00:00, 70.13it/s]"
     ]
    },
    {
     "name": "stdout",
     "output_type": "stream",
     "text": [
      "\n",
      "[SASRec]\t Test_Recall@500 = 0.0104 Test_NDCG@500 = 0.0014\n",
      "parmas : 3328800\n"
     ]
    },
    {
     "name": "stderr",
     "output_type": "stream",
     "text": [
      "\n"
     ]
    }
   ],
   "source": [
    "\"\"\"\n",
    "SASRec\n",
    "\"\"\"\n",
    "from models.SASRec_sequential import SASRec_sequential\n",
    "\n",
    "seed_everything(seed)\n",
    "SASRec = SASRec_sequential(user_train_music, user_valid_music, user_num=num_users, item_num=num_items, hidden_dim=50, maxlen=20, num_blocks=1, num_heads=1,\n",
    "                            num_epochs=100, eval_every=1, early_stop_trial=5, learning_rate=0.001, reg_lambda=0.0, batch_size=128, device=device, top_k = 100)\n",
    "SASRec.fit()\n",
    "SASRec_ndcg, SASRec_recall = eval_sequential(SASRec, user_train_music, user_valid_music, user_test_music, num_users, num_items, top_k, mode='test')\n",
    "print(f\"\\n[SASRec]\\t Test_Recall@{top_k} = {SASRec_recall:.4f} Test_NDCG@{top_k} = {SASRec_ndcg:.4f}\")\n",
    "print(\"parmas :\", sum(p.numel() for p in SASRec.parameters() if p.requires_grad))"
   ]
  },
  {
   "cell_type": "code",
   "execution_count": 12,
   "id": "6e05e41b",
   "metadata": {
    "scrolled": true
   },
   "outputs": [
    {
     "name": "stderr",
     "output_type": "stream",
     "text": [
      "valid: 100%|██████████| 1000/1000 [00:25<00:00, 39.56it/s]\n"
     ]
    },
    {
     "name": "stdout",
     "output_type": "stream",
     "text": [
      "epoch 1 train_loss = 10.7780 valid_recall@100 = 0.0340 valid_ndcg@100 = 0.0080\n"
     ]
    },
    {
     "name": "stderr",
     "output_type": "stream",
     "text": [
      "valid: 100%|██████████| 1000/1000 [00:25<00:00, 39.46it/s]\n"
     ]
    },
    {
     "name": "stdout",
     "output_type": "stream",
     "text": [
      "epoch 2 train_loss = 10.7506 valid_recall@100 = 0.0370 valid_ndcg@100 = 0.0098\n"
     ]
    },
    {
     "name": "stderr",
     "output_type": "stream",
     "text": [
      "valid: 100%|██████████| 1000/1000 [00:25<00:00, 39.87it/s]\n"
     ]
    },
    {
     "name": "stdout",
     "output_type": "stream",
     "text": [
      "epoch 3 train_loss = 10.1411 valid_recall@100 = 0.0210 valid_ndcg@100 = 0.0040\n"
     ]
    },
    {
     "name": "stderr",
     "output_type": "stream",
     "text": [
      "valid: 100%|██████████| 1000/1000 [00:25<00:00, 38.80it/s]\n"
     ]
    },
    {
     "name": "stdout",
     "output_type": "stream",
     "text": [
      "epoch 4 train_loss = 10.0967 valid_recall@100 = 0.0370 valid_ndcg@100 = 0.0091\n"
     ]
    },
    {
     "name": "stderr",
     "output_type": "stream",
     "text": [
      "valid: 100%|██████████| 1000/1000 [00:25<00:00, 39.65it/s]\n"
     ]
    },
    {
     "name": "stdout",
     "output_type": "stream",
     "text": [
      "epoch 5 train_loss = 10.3783 valid_recall@100 = 0.0530 valid_ndcg@100 = 0.0151\n"
     ]
    },
    {
     "name": "stderr",
     "output_type": "stream",
     "text": [
      "valid: 100%|██████████| 1000/1000 [00:25<00:00, 39.36it/s]\n"
     ]
    },
    {
     "name": "stdout",
     "output_type": "stream",
     "text": [
      "epoch 6 train_loss = 10.1667 valid_recall@100 = 0.0480 valid_ndcg@100 = 0.0105\n"
     ]
    },
    {
     "name": "stderr",
     "output_type": "stream",
     "text": [
      "valid: 100%|██████████| 1000/1000 [00:24<00:00, 41.00it/s]\n"
     ]
    },
    {
     "name": "stdout",
     "output_type": "stream",
     "text": [
      "epoch 7 train_loss = 10.0390 valid_recall@100 = 0.0600 valid_ndcg@100 = 0.0143\n"
     ]
    },
    {
     "name": "stderr",
     "output_type": "stream",
     "text": [
      "valid: 100%|██████████| 1000/1000 [00:25<00:00, 39.18it/s]\n"
     ]
    },
    {
     "name": "stdout",
     "output_type": "stream",
     "text": [
      "epoch 8 train_loss = 10.3272 valid_recall@100 = 0.0350 valid_ndcg@100 = 0.0069\n"
     ]
    },
    {
     "name": "stderr",
     "output_type": "stream",
     "text": [
      "valid: 100%|██████████| 1000/1000 [00:25<00:00, 39.34it/s]\n"
     ]
    },
    {
     "name": "stdout",
     "output_type": "stream",
     "text": [
      "epoch 9 train_loss = 10.0948 valid_recall@100 = 0.0460 valid_ndcg@100 = 0.0108\n"
     ]
    },
    {
     "name": "stderr",
     "output_type": "stream",
     "text": [
      "valid: 100%|██████████| 1000/1000 [00:24<00:00, 40.88it/s]\n"
     ]
    },
    {
     "name": "stdout",
     "output_type": "stream",
     "text": [
      "epoch 10 train_loss = 10.0533 valid_recall@100 = 0.0500 valid_ndcg@100 = 0.0119\n"
     ]
    },
    {
     "name": "stderr",
     "output_type": "stream",
     "text": [
      "valid: 100%|██████████| 1000/1000 [00:25<00:00, 39.23it/s]\n"
     ]
    },
    {
     "name": "stdout",
     "output_type": "stream",
     "text": [
      "epoch 11 train_loss = 9.9665 valid_recall@100 = 0.0460 valid_ndcg@100 = 0.0102\n"
     ]
    },
    {
     "name": "stderr",
     "output_type": "stream",
     "text": [
      "valid: 100%|██████████| 1000/1000 [00:25<00:00, 39.62it/s]\n"
     ]
    },
    {
     "name": "stdout",
     "output_type": "stream",
     "text": [
      "epoch 12 train_loss = 10.1642 valid_recall@100 = 0.0630 valid_ndcg@100 = 0.0141\n"
     ]
    },
    {
     "name": "stderr",
     "output_type": "stream",
     "text": [
      "valid: 100%|██████████| 1000/1000 [00:24<00:00, 40.65it/s]\n"
     ]
    },
    {
     "name": "stdout",
     "output_type": "stream",
     "text": [
      "epoch 13 train_loss = 9.7111 valid_recall@100 = 0.0510 valid_ndcg@100 = 0.0120\n"
     ]
    },
    {
     "name": "stderr",
     "output_type": "stream",
     "text": [
      "valid: 100%|██████████| 1000/1000 [00:24<00:00, 40.03it/s]\n"
     ]
    },
    {
     "name": "stdout",
     "output_type": "stream",
     "text": [
      "epoch 14 train_loss = 10.1801 valid_recall@100 = 0.0460 valid_ndcg@100 = 0.0125\n"
     ]
    },
    {
     "name": "stderr",
     "output_type": "stream",
     "text": [
      "valid: 100%|██████████| 1000/1000 [00:25<00:00, 39.33it/s]\n"
     ]
    },
    {
     "name": "stdout",
     "output_type": "stream",
     "text": [
      "epoch 15 train_loss = 9.8395 valid_recall@100 = 0.0520 valid_ndcg@100 = 0.0120\n"
     ]
    },
    {
     "name": "stderr",
     "output_type": "stream",
     "text": [
      "valid: 100%|██████████| 1000/1000 [00:25<00:00, 39.14it/s]\n"
     ]
    },
    {
     "name": "stdout",
     "output_type": "stream",
     "text": [
      "epoch 16 train_loss = 9.8465 valid_recall@100 = 0.0580 valid_ndcg@100 = 0.0130\n"
     ]
    },
    {
     "name": "stderr",
     "output_type": "stream",
     "text": [
      "valid: 100%|██████████| 1000/1000 [00:25<00:00, 39.19it/s]\n"
     ]
    },
    {
     "name": "stdout",
     "output_type": "stream",
     "text": [
      "Early stop at epoch:17\n"
     ]
    },
    {
     "name": "stderr",
     "output_type": "stream",
     "text": [
      "test: 100%|██████████| 8000/8000 [03:23<00:00, 39.23it/s]"
     ]
    },
    {
     "name": "stdout",
     "output_type": "stream",
     "text": [
      "\n",
      "[BERTRec]\t Test_Recall@500 = 0.1573 Test_NDCG@500 = 0.0245\n",
      "parmas : 34707494\n"
     ]
    },
    {
     "name": "stderr",
     "output_type": "stream",
     "text": [
      "\n"
     ]
    }
   ],
   "source": [
    "\"\"\"\n",
    "BERT4Rec\n",
    "\"\"\"\n",
    "from models.BERTRec_sequential import BERTRec_sequential\n",
    "\n",
    "seed_everything(seed)\n",
    "BERTRec = BERTRec_sequential(user_train_music, user_valid_music, user_num=num_users, item_num=num_items, hidden=50*5, maxlen=50, n_layers=2, heads=5, mask_prob=0.1,\n",
    "                                num_epochs=100, eval_every=1, early_stop_trial=5, learning_rate=0.001, reg_lambda=0.0, batch_size=128, device=device, top_k = 100)\n",
    "BERTRec.fit()\n",
    "BERTRec_ndcg, BERTRec_recall = eval_sequential(BERTRec, user_train_music, user_valid_music, user_test_music, num_users, num_items, top_k = 100, mode='test')\n",
    "print(f\"\\n[BERTRec]\\t Test_Recall@{top_k} = {BERTRec_recall:.4f} Test_NDCG@{top_k} = {BERTRec_ndcg:.4f}\")\n",
    "print(\"parmas :\", sum(p.numel() for p in BERTRec.parameters() if p.requires_grad))"
   ]
  },
  {
   "cell_type": "code",
   "execution_count": null,
   "id": "6e031103",
   "metadata": {},
   "outputs": [],
   "source": []
  },
  {
   "cell_type": "code",
   "execution_count": null,
   "id": "1c8ca59c",
   "metadata": {},
   "outputs": [],
   "source": []
  },
  {
   "cell_type": "code",
   "execution_count": 14,
   "id": "9dfacd08",
   "metadata": {},
   "outputs": [],
   "source": [
    "train_rows = []\n",
    "for user in user_train_music:\n",
    "    for song in user_train_music[user]:\n",
    "        train_rows.append((user,song,1))\n",
    "train = pd.DataFrame(train_rows, columns = ['user_id', 'item_id', 'rating'])"
   ]
  },
  {
   "cell_type": "code",
   "execution_count": 15,
   "id": "e0a7a428",
   "metadata": {},
   "outputs": [],
   "source": [
    "valid_rows = []\n",
    "for user in user_valid_music:\n",
    "    for song in user_valid_music[user]:\n",
    "        valid_rows.append((user,song,1))\n",
    "valid = pd.DataFrame(valid_rows, columns = ['user_id', 'item_id', 'rating'])"
   ]
  },
  {
   "cell_type": "code",
   "execution_count": 16,
   "id": "59cf60bf",
   "metadata": {},
   "outputs": [],
   "source": [
    "test_rows = []\n",
    "for user in user_test_music:\n",
    "    for song in user_test_music[user]:\n",
    "        test_rows.append((user,song,1))\n",
    "test = pd.DataFrame(test_rows, columns = ['user_id', 'item_id', 'rating'])"
   ]
  },
  {
   "cell_type": "code",
   "execution_count": 17,
   "id": "7ecdff92",
   "metadata": {},
   "outputs": [],
   "source": [
    "train = train.to_numpy()\n",
    "valid = valid.to_numpy()\n",
    "test = test.to_numpy()\n",
    "\n",
    "matrix = sparse.lil_matrix((num_users, num_items))\n",
    "for (u, i, r) in train:\n",
    "    matrix[u, i] = r\n",
    "train = sparse.csr_matrix(matrix)\n",
    "\n",
    "matrix = sparse.lil_matrix((num_users, num_items))\n",
    "for (u, i, r) in valid:\n",
    "    matrix[u, i] = r\n",
    "valid = sparse.csr_matrix(matrix)\n",
    "\n",
    "matrix = sparse.lil_matrix((num_users, num_items))\n",
    "for (u, i, r) in test:\n",
    "    matrix[u, i] = r\n",
    "test = sparse.csr_matrix(matrix)\n",
    "\n",
    "# train = train.toarray()\n",
    "# valid = valid.toarray()\n",
    "# test = test.toarray()"
   ]
  },
  {
   "cell_type": "code",
   "execution_count": 14,
   "id": "73dc5242",
   "metadata": {},
   "outputs": [],
   "source": []
  },
  {
   "cell_type": "code",
   "execution_count": 15,
   "id": "902c1c92",
   "metadata": {},
   "outputs": [],
   "source": [
    "top_k = 500"
   ]
  },
  {
   "cell_type": "code",
   "execution_count": 11,
   "id": "ddf5513b",
   "metadata": {},
   "outputs": [
    {
     "ename": "NameError",
     "evalue": "name 'train' is not defined",
     "output_type": "error",
     "traceback": [
      "\u001b[0;31m---------------------------------------------------------------------------\u001b[0m",
      "\u001b[0;31mNameError\u001b[0m                                 Traceback (most recent call last)",
      "\u001b[0;32m/var/folders/27/fcv785895zb4wczv3dzgn3gh0000gn/T/ipykernel_62246/826232396.py\u001b[0m in \u001b[0;36m<module>\u001b[0;34m\u001b[0m\n\u001b[1;32m      5\u001b[0m \u001b[0;34m\u001b[0m\u001b[0m\n\u001b[1;32m      6\u001b[0m \u001b[0mseed_everything\u001b[0m\u001b[0;34m(\u001b[0m\u001b[0mseed\u001b[0m\u001b[0;34m)\u001b[0m\u001b[0;34m\u001b[0m\u001b[0;34m\u001b[0m\u001b[0m\n\u001b[0;32m----> 7\u001b[0;31m \u001b[0mease\u001b[0m \u001b[0;34m=\u001b[0m \u001b[0mEASE_implicit\u001b[0m\u001b[0;34m(\u001b[0m\u001b[0mtrain\u001b[0m\u001b[0;34m=\u001b[0m\u001b[0mtrain\u001b[0m\u001b[0;34m,\u001b[0m \u001b[0mvalid\u001b[0m\u001b[0;34m=\u001b[0m\u001b[0mvalid\u001b[0m\u001b[0;34m,\u001b[0m \u001b[0mreg_lambda\u001b[0m\u001b[0;34m=\u001b[0m\u001b[0;36m100\u001b[0m\u001b[0;34m)\u001b[0m\u001b[0;34m\u001b[0m\u001b[0;34m\u001b[0m\u001b[0m\n\u001b[0m\u001b[1;32m      8\u001b[0m \u001b[0mease\u001b[0m\u001b[0;34m.\u001b[0m\u001b[0mfit\u001b[0m\u001b[0;34m(\u001b[0m\u001b[0;34m)\u001b[0m\u001b[0;34m\u001b[0m\u001b[0;34m\u001b[0m\u001b[0m\n\u001b[1;32m      9\u001b[0m \u001b[0mease_prec\u001b[0m\u001b[0;34m,\u001b[0m \u001b[0mease_recall\u001b[0m\u001b[0;34m,\u001b[0m \u001b[0mease_ndcg\u001b[0m \u001b[0;34m=\u001b[0m \u001b[0meval_implicit\u001b[0m\u001b[0;34m(\u001b[0m\u001b[0mease\u001b[0m\u001b[0;34m,\u001b[0m \u001b[0mtrain\u001b[0m\u001b[0;34m,\u001b[0m \u001b[0mtest\u001b[0m\u001b[0;34m,\u001b[0m \u001b[0mtop_k\u001b[0m\u001b[0;34m)\u001b[0m\u001b[0;34m\u001b[0m\u001b[0;34m\u001b[0m\u001b[0m\n",
      "\u001b[0;31mNameError\u001b[0m: name 'train' is not defined"
     ]
    }
   ],
   "source": [
    "\"\"\"\n",
    "EASE\n",
    "\"\"\"\n",
    "from models.EASE_implicit import EASE_implicit\n",
    "\n",
    "seed_everything(seed)\n",
    "ease = EASE_implicit(train=train, valid=valid, reg_lambda=100)\n",
    "ease.fit()\n",
    "train = train+valid\n",
    "ease_prec, ease_recall, ease_ndcg = eval_implicit(ease, train, test, top_k)\n",
    "print(\"EASE Prec@50: %f, Recall@50: %f, NDCG@50: %f\"%(ease_prec, ease_recall, ease_ndcg))"
   ]
  },
  {
   "cell_type": "code",
   "execution_count": null,
   "id": "6ad440ca",
   "metadata": {},
   "outputs": [],
   "source": []
  },
  {
   "cell_type": "code",
   "execution_count": null,
   "id": "63bc80e6",
   "metadata": {},
   "outputs": [],
   "source": []
  }
 ],
 "metadata": {
  "kernelspec": {
   "display_name": "Python 3",
   "language": "python",
   "name": "python3"
  },
  "language_info": {
   "codemirror_mode": {
    "name": "ipython",
    "version": 3
   },
   "file_extension": ".py",
   "mimetype": "text/x-python",
   "name": "python",
   "nbconvert_exporter": "python",
   "pygments_lexer": "ipython3",
   "version": "3.7.7"
  }
 },
 "nbformat": 4,
 "nbformat_minor": 5
}
