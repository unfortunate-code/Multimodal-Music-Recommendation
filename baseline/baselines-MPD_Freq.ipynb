{
 "cells": [
  {
   "cell_type": "code",
   "execution_count": 1,
   "id": "750c4720",
   "metadata": {},
   "outputs": [],
   "source": [
    "import os\n",
    "import warnings\n",
    "import random\n",
    "from os.path import join\n",
    "import torch\n",
    "import numpy as np\n",
    "import pandas as pd\n",
    "from scipy import sparse"
   ]
  },
  {
   "cell_type": "code",
   "execution_count": 2,
   "id": "b6bcb422",
   "metadata": {},
   "outputs": [
    {
     "data": {
      "text/plain": [
       "'1.9.0'"
      ]
     },
     "execution_count": 2,
     "metadata": {},
     "output_type": "execute_result"
    }
   ],
   "source": [
    "torch.__version__"
   ]
  },
  {
   "cell_type": "code",
   "execution_count": 3,
   "id": "403dcdb0",
   "metadata": {},
   "outputs": [
    {
     "name": "stderr",
     "output_type": "stream",
     "text": [
      "Using backend: pytorch\n"
     ]
    }
   ],
   "source": [
    "\n",
    "from utils import load_data_sequential\n",
    "from utils import eval_sequential\n",
    "import warnings\n",
    "import random\n",
    "from os.path import join\n",
    "import torch\n",
    "import numpy as np\n",
    "\n",
    "warnings.filterwarnings('ignore')\n",
    "\n",
    "\n",
    "def seed_everything(random_seed):\n",
    "    torch.manual_seed(random_seed)\n",
    "    torch.cuda.manual_seed(random_seed)\n",
    "    torch.cuda.manual_seed_all(random_seed)\n",
    "    torch.backends.cudnn.deterministic = True\n",
    "    torch.backends.cudnn.benchmark = False\n",
    "    np.random.seed(random_seed)\n",
    "    random.seed(random_seed)\n",
    "\n",
    "seed = 1\n",
    "seed_everything(seed)\n",
    "device = torch.device(\"cuda\" if torch.cuda.is_available() else \"cpu\")\n",
    "\n",
    "top_k = 20"
   ]
  },
  {
   "cell_type": "code",
   "execution_count": 4,
   "id": "f5aca157",
   "metadata": {},
   "outputs": [],
   "source": [
    "data = '/Desktop/usc/CSCI - 566/project/data/spotify/challenge_set.json'"
   ]
  },
  {
   "cell_type": "code",
   "execution_count": 5,
   "id": "046778dc",
   "metadata": {},
   "outputs": [],
   "source": [
    "import json\n",
    "\n",
    "with open('../challenge_set.json', 'r') as f:\n",
    "  data = json.load(f)"
   ]
  },
  {
   "cell_type": "code",
   "execution_count": 6,
   "id": "e0d2a0e8",
   "metadata": {},
   "outputs": [],
   "source": [
    "f = open('../freq_song_spotify.txt', 'r')\n",
    "data = f.read()\n",
    "f.close()\n",
    "\n",
    "data = data.split(\"\\n\")\n",
    "data = [i.split(\"\\t\") for i in data[:-1]]\n",
    "\n",
    "track2id = dict()\n",
    "id2track = dict()\n",
    "\n",
    "for i in data:\n",
    "    track2id[i[2]] = int(i[-1])\n",
    "    id2track[int(i[-1])] = i[2]"
   ]
  },
  {
   "cell_type": "code",
   "execution_count": 7,
   "id": "d67a4961",
   "metadata": {},
   "outputs": [
    {
     "data": {
      "text/plain": [
       "17835"
      ]
     },
     "execution_count": 7,
     "metadata": {},
     "output_type": "execute_result"
    }
   ],
   "source": [
    "len(track2id)"
   ]
  },
  {
   "cell_type": "code",
   "execution_count": 8,
   "id": "39996ec6",
   "metadata": {},
   "outputs": [],
   "source": [
    "import json\n",
    "\n",
    "with open('../challenge_set.json', 'r') as f:\n",
    "    data = json.load(f)"
   ]
  },
  {
   "cell_type": "code",
   "execution_count": 9,
   "id": "d23ca917",
   "metadata": {},
   "outputs": [
    {
     "name": "stdout",
     "output_type": "stream",
     "text": [
      "# of users: 7543,  # of items: 17835\n"
     ]
    }
   ],
   "source": [
    "playlists = []\n",
    "\n",
    "for playlist in data[\"playlists\"]:\n",
    "    if len(playlist['tracks'])>2:\n",
    "        pl = []\n",
    "        for track in playlist['tracks']:\n",
    "            if track['track_uri'] in track2id:\n",
    "                pl.append(track2id[track['track_uri']])\n",
    "            \n",
    "        playlists.append(pl)\n",
    "        \n",
    "playlists = [i for i in playlists if len(i)>2]\n",
    "        \n",
    "\n",
    "num_users = len(playlists)\n",
    "num_items = len(track2id)\n",
    "\n",
    "print(f\"# of users: {num_users},  # of items: {num_items}\")\n",
    "\n",
    "music_data = dict()\n",
    "for idx, i in enumerate(playlists):\n",
    "    music_data[idx] = i\n",
    "    \n",
    "    \n",
    "user_train_music = dict()\n",
    "user_valid_music = dict()\n",
    "user_test_music = dict()\n",
    "\n",
    "for u in music_data:\n",
    "    user_valid_music[u] = [music_data[u][-2]]\n",
    "    user_test_music[u] = [music_data[u][-1]]\n",
    "    user_train_music[u] = music_data[u][:-2]"
   ]
  },
  {
   "cell_type": "code",
   "execution_count": 10,
   "id": "c6e96720",
   "metadata": {},
   "outputs": [],
   "source": [
    "count = 0\n",
    "for i in playlists:\n",
    "    count += len(i)"
   ]
  },
  {
   "cell_type": "code",
   "execution_count": 12,
   "id": "3ab1c89b",
   "metadata": {},
   "outputs": [
    {
     "data": {
      "text/plain": [
       "0.9983535792788201"
      ]
     },
     "execution_count": 12,
     "metadata": {},
     "output_type": "execute_result"
    }
   ],
   "source": [
    "1 - count / num_users / num_items"
   ]
  },
  {
   "cell_type": "code",
   "execution_count": 17,
   "id": "5d5a200a",
   "metadata": {},
   "outputs": [],
   "source": [
    "top_k = 500"
   ]
  },
  {
   "cell_type": "code",
   "execution_count": 18,
   "id": "4ffe19f0",
   "metadata": {},
   "outputs": [
    {
     "name": "stderr",
     "output_type": "stream",
     "text": [
      "100%|███████████████████████████████████████████████████████████████████████████████████████████████████████████████████████████████████████████████████████████| 59/59 [00:01<00:00, 46.34it/s]\n",
      "valid: 100%|███████████████████████████████████████████████████████████████████████████████████████████████████████████████████████████████████████████████| 1000/1000 [00:02<00:00, 397.95it/s]\n"
     ]
    },
    {
     "name": "stdout",
     "output_type": "stream",
     "text": [
      "epoch 1 train_loss = 0.63407052 valid_recall@500 = 0.1650 valid_ndcg@500 = 0.0247\n"
     ]
    },
    {
     "name": "stderr",
     "output_type": "stream",
     "text": [
      "100%|███████████████████████████████████████████████████████████████████████████████████████████████████████████████████████████████████████████████████████████| 59/59 [00:00<00:00, 69.19it/s]\n",
      "valid: 100%|███████████████████████████████████████████████████████████████████████████████████████████████████████████████████████████████████████████████| 1000/1000 [00:02<00:00, 345.52it/s]\n"
     ]
    },
    {
     "name": "stdout",
     "output_type": "stream",
     "text": [
      "epoch 2 train_loss = 0.59141773 valid_recall@500 = 0.1880 valid_ndcg@500 = 0.0301\n"
     ]
    },
    {
     "name": "stderr",
     "output_type": "stream",
     "text": [
      "100%|███████████████████████████████████████████████████████████████████████████████████████████████████████████████████████████████████████████████████████████| 59/59 [00:00<00:00, 65.77it/s]\n",
      "valid: 100%|███████████████████████████████████████████████████████████████████████████████████████████████████████████████████████████████████████████████| 1000/1000 [00:02<00:00, 383.92it/s]\n"
     ]
    },
    {
     "name": "stdout",
     "output_type": "stream",
     "text": [
      "epoch 3 train_loss = 0.51586956 valid_recall@500 = 0.1730 valid_ndcg@500 = 0.0297\n"
     ]
    },
    {
     "name": "stderr",
     "output_type": "stream",
     "text": [
      "100%|███████████████████████████████████████████████████████████████████████████████████████████████████████████████████████████████████████████████████████████| 59/59 [00:00<00:00, 67.55it/s]\n",
      "valid: 100%|███████████████████████████████████████████████████████████████████████████████████████████████████████████████████████████████████████████████| 1000/1000 [00:02<00:00, 382.37it/s]\n"
     ]
    },
    {
     "name": "stdout",
     "output_type": "stream",
     "text": [
      "epoch 4 train_loss = 0.46143603 valid_recall@500 = 0.1800 valid_ndcg@500 = 0.0288\n"
     ]
    },
    {
     "name": "stderr",
     "output_type": "stream",
     "text": [
      "100%|███████████████████████████████████████████████████████████████████████████████████████████████████████████████████████████████████████████████████████████| 59/59 [00:00<00:00, 68.88it/s]\n",
      "valid: 100%|███████████████████████████████████████████████████████████████████████████████████████████████████████████████████████████████████████████████| 1000/1000 [00:02<00:00, 380.68it/s]\n"
     ]
    },
    {
     "name": "stdout",
     "output_type": "stream",
     "text": [
      "epoch 5 train_loss = 0.44000396 valid_recall@500 = 0.1920 valid_ndcg@500 = 0.0302\n"
     ]
    },
    {
     "name": "stderr",
     "output_type": "stream",
     "text": [
      "100%|███████████████████████████████████████████████████████████████████████████████████████████████████████████████████████████████████████████████████████████| 59/59 [00:00<00:00, 68.15it/s]\n",
      "valid: 100%|███████████████████████████████████████████████████████████████████████████████████████████████████████████████████████████████████████████████| 1000/1000 [00:02<00:00, 378.39it/s]\n"
     ]
    },
    {
     "name": "stdout",
     "output_type": "stream",
     "text": [
      "epoch 6 train_loss = 0.41063222 valid_recall@500 = 0.1830 valid_ndcg@500 = 0.0278\n"
     ]
    },
    {
     "name": "stderr",
     "output_type": "stream",
     "text": [
      "100%|███████████████████████████████████████████████████████████████████████████████████████████████████████████████████████████████████████████████████████████| 59/59 [00:00<00:00, 67.43it/s]\n",
      "valid: 100%|███████████████████████████████████████████████████████████████████████████████████████████████████████████████████████████████████████████████| 1000/1000 [00:02<00:00, 377.15it/s]\n"
     ]
    },
    {
     "name": "stdout",
     "output_type": "stream",
     "text": [
      "epoch 7 train_loss = 0.36333156 valid_recall@500 = 0.1640 valid_ndcg@500 = 0.0261\n"
     ]
    },
    {
     "name": "stderr",
     "output_type": "stream",
     "text": [
      "100%|███████████████████████████████████████████████████████████████████████████████████████████████████████████████████████████████████████████████████████████| 59/59 [00:00<00:00, 67.51it/s]\n",
      "valid: 100%|███████████████████████████████████████████████████████████████████████████████████████████████████████████████████████████████████████████████| 1000/1000 [00:02<00:00, 376.71it/s]\n"
     ]
    },
    {
     "name": "stdout",
     "output_type": "stream",
     "text": [
      "epoch 8 train_loss = 0.28347191 valid_recall@500 = 0.1830 valid_ndcg@500 = 0.0290\n"
     ]
    },
    {
     "name": "stderr",
     "output_type": "stream",
     "text": [
      "100%|███████████████████████████████████████████████████████████████████████████████████████████████████████████████████████████████████████████████████████████| 59/59 [00:00<00:00, 67.31it/s]\n",
      "valid: 100%|███████████████████████████████████████████████████████████████████████████████████████████████████████████████████████████████████████████████| 1000/1000 [00:02<00:00, 375.73it/s]\n"
     ]
    },
    {
     "name": "stdout",
     "output_type": "stream",
     "text": [
      "epoch 9 train_loss = 0.23164438 valid_recall@500 = 0.1800 valid_ndcg@500 = 0.0276\n"
     ]
    },
    {
     "name": "stderr",
     "output_type": "stream",
     "text": [
      "100%|███████████████████████████████████████████████████████████████████████████████████████████████████████████████████████████████████████████████████████████| 59/59 [00:00<00:00, 67.17it/s]\n",
      "valid: 100%|███████████████████████████████████████████████████████████████████████████████████████████████████████████████████████████████████████████████| 1000/1000 [00:02<00:00, 375.49it/s]\n"
     ]
    },
    {
     "name": "stdout",
     "output_type": "stream",
     "text": [
      "epoch 10 train_loss = 0.27304861 valid_recall@500 = 0.2010 valid_ndcg@500 = 0.0310\n"
     ]
    },
    {
     "name": "stderr",
     "output_type": "stream",
     "text": [
      "100%|███████████████████████████████████████████████████████████████████████████████████████████████████████████████████████████████████████████████████████████| 59/59 [00:00<00:00, 67.64it/s]\n",
      "valid: 100%|███████████████████████████████████████████████████████████████████████████████████████████████████████████████████████████████████████████████| 1000/1000 [00:02<00:00, 374.03it/s]\n"
     ]
    },
    {
     "name": "stdout",
     "output_type": "stream",
     "text": [
      "epoch 11 train_loss = 0.17596567 valid_recall@500 = 0.1910 valid_ndcg@500 = 0.0301\n"
     ]
    },
    {
     "name": "stderr",
     "output_type": "stream",
     "text": [
      "100%|███████████████████████████████████████████████████████████████████████████████████████████████████████████████████████████████████████████████████████████| 59/59 [00:01<00:00, 50.10it/s]\n",
      "valid: 100%|███████████████████████████████████████████████████████████████████████████████████████████████████████████████████████████████████████████████| 1000/1000 [00:02<00:00, 370.22it/s]\n"
     ]
    },
    {
     "name": "stdout",
     "output_type": "stream",
     "text": [
      "epoch 12 train_loss = 0.17949538 valid_recall@500 = 0.2060 valid_ndcg@500 = 0.0332\n"
     ]
    },
    {
     "name": "stderr",
     "output_type": "stream",
     "text": [
      "100%|███████████████████████████████████████████████████████████████████████████████████████████████████████████████████████████████████████████████████████████| 59/59 [00:00<00:00, 70.26it/s]\n",
      "valid: 100%|███████████████████████████████████████████████████████████████████████████████████████████████████████████████████████████████████████████████| 1000/1000 [00:02<00:00, 374.78it/s]\n"
     ]
    },
    {
     "name": "stdout",
     "output_type": "stream",
     "text": [
      "epoch 13 train_loss = 0.16143337 valid_recall@500 = 0.1850 valid_ndcg@500 = 0.0301\n"
     ]
    },
    {
     "name": "stderr",
     "output_type": "stream",
     "text": [
      "100%|███████████████████████████████████████████████████████████████████████████████████████████████████████████████████████████████████████████████████████████| 59/59 [00:00<00:00, 71.37it/s]\n",
      "valid: 100%|███████████████████████████████████████████████████████████████████████████████████████████████████████████████████████████████████████████████| 1000/1000 [00:02<00:00, 379.53it/s]\n"
     ]
    },
    {
     "name": "stdout",
     "output_type": "stream",
     "text": [
      "epoch 14 train_loss = 0.10771593 valid_recall@500 = 0.1800 valid_ndcg@500 = 0.0292\n"
     ]
    },
    {
     "name": "stderr",
     "output_type": "stream",
     "text": [
      "100%|███████████████████████████████████████████████████████████████████████████████████████████████████████████████████████████████████████████████████████████| 59/59 [00:00<00:00, 71.79it/s]\n",
      "valid: 100%|███████████████████████████████████████████████████████████████████████████████████████████████████████████████████████████████████████████████| 1000/1000 [00:03<00:00, 331.86it/s]\n"
     ]
    },
    {
     "name": "stdout",
     "output_type": "stream",
     "text": [
      "epoch 15 train_loss = 0.10641369 valid_recall@500 = 0.2060 valid_ndcg@500 = 0.0304\n"
     ]
    },
    {
     "name": "stderr",
     "output_type": "stream",
     "text": [
      "100%|███████████████████████████████████████████████████████████████████████████████████████████████████████████████████████████████████████████████████████████| 59/59 [00:00<00:00, 67.62it/s]\n",
      "valid: 100%|███████████████████████████████████████████████████████████████████████████████████████████████████████████████████████████████████████████████| 1000/1000 [00:02<00:00, 373.11it/s]\n"
     ]
    },
    {
     "name": "stdout",
     "output_type": "stream",
     "text": [
      "epoch 16 train_loss = 0.12022328 valid_recall@500 = 0.1930 valid_ndcg@500 = 0.0292\n"
     ]
    },
    {
     "name": "stderr",
     "output_type": "stream",
     "text": [
      "100%|███████████████████████████████████████████████████████████████████████████████████████████████████████████████████████████████████████████████████████████| 59/59 [00:00<00:00, 66.95it/s]\n",
      "valid: 100%|███████████████████████████████████████████████████████████████████████████████████████████████████████████████████████████████████████████████| 1000/1000 [00:03<00:00, 309.56it/s]\n"
     ]
    },
    {
     "name": "stdout",
     "output_type": "stream",
     "text": [
      "Early stop at epoch:17\n"
     ]
    },
    {
     "name": "stderr",
     "output_type": "stream",
     "text": [
      "test: 100%|████████████████████████████████████████████████████████████████████████████████████████████████████████████████████████████████████████████████| 7543/7543 [00:21<00:00, 357.03it/s]"
     ]
    },
    {
     "name": "stdout",
     "output_type": "stream",
     "text": [
      "\n",
      "[TransRec]\t Test_Recall@500 = 0.1757 Test_NDCG@500 = 0.0278\n",
      "parmas : 5093635\n",
      "======================================\n"
     ]
    },
    {
     "name": "stderr",
     "output_type": "stream",
     "text": [
      "\n"
     ]
    }
   ],
   "source": [
    "'''\n",
    "TransRec\n",
    "'''\n",
    "from models.TransRec_sequential import TransRec_sequential\n",
    "\n",
    "seed_everything(seed)\n",
    "TransRec = TransRec_sequential(user_train_music, user_valid_music, user_num=num_users, item_num=num_items, emb_dim=200, maxlen=1,\n",
    "                                num_epochs=100, eval_every=1, early_stop_trial=5, learning_rate=0.001, reg_lambda=0.0, batch_size=128, device=device, top_k= 500)\n",
    "TransRec.fit()\n",
    "TransRec_ndcg, TransRec_recall = eval_sequential(TransRec, user_train_music, user_valid_music, user_test_music, num_users, num_items, top_k, mode='test')\n",
    "print(f\"\\n[TransRec]\\t Test_Recall@{top_k} = {TransRec_recall:.4f} Test_NDCG@{top_k} = {TransRec_ndcg:.4f}\")\n",
    "print(\"parmas :\", sum(p.numel() for p in TransRec.parameters() if p.requires_grad))\n",
    "print(\"======================================\")"
   ]
  },
  {
   "cell_type": "code",
   "execution_count": 19,
   "id": "b10f5103",
   "metadata": {},
   "outputs": [
    {
     "name": "stderr",
     "output_type": "stream",
     "text": [
      "valid: 100%|███████████████████████████████████████████████████████████████████████████████████████████████████████████████████████████████████████████████| 1000/1000 [00:03<00:00, 296.72it/s]\n"
     ]
    },
    {
     "name": "stdout",
     "output_type": "stream",
     "text": [
      "epoch 1 train_loss = 5.7797 valid_recall@500 = 0.0140 valid_ndcg@500 = 0.0019\n"
     ]
    },
    {
     "name": "stderr",
     "output_type": "stream",
     "text": [
      "valid: 100%|███████████████████████████████████████████████████████████████████████████████████████████████████████████████████████████████████████████████| 1000/1000 [00:03<00:00, 295.87it/s]\n"
     ]
    },
    {
     "name": "stdout",
     "output_type": "stream",
     "text": [
      "epoch 2 train_loss = 4.5742 valid_recall@500 = 0.0380 valid_ndcg@500 = 0.0054\n"
     ]
    },
    {
     "name": "stderr",
     "output_type": "stream",
     "text": [
      "valid: 100%|███████████████████████████████████████████████████████████████████████████████████████████████████████████████████████████████████████████████| 1000/1000 [00:03<00:00, 295.75it/s]\n"
     ]
    },
    {
     "name": "stdout",
     "output_type": "stream",
     "text": [
      "epoch 3 train_loss = 3.7782 valid_recall@500 = 0.0300 valid_ndcg@500 = 0.0050\n"
     ]
    },
    {
     "name": "stderr",
     "output_type": "stream",
     "text": [
      "valid: 100%|███████████████████████████████████████████████████████████████████████████████████████████████████████████████████████████████████████████████| 1000/1000 [00:03<00:00, 295.67it/s]\n"
     ]
    },
    {
     "name": "stdout",
     "output_type": "stream",
     "text": [
      "epoch 4 train_loss = 3.0097 valid_recall@500 = 0.0400 valid_ndcg@500 = 0.0070\n"
     ]
    },
    {
     "name": "stderr",
     "output_type": "stream",
     "text": [
      "valid: 100%|███████████████████████████████████████████████████████████████████████████████████████████████████████████████████████████████████████████████| 1000/1000 [00:03<00:00, 295.62it/s]\n"
     ]
    },
    {
     "name": "stdout",
     "output_type": "stream",
     "text": [
      "epoch 5 train_loss = 2.6767 valid_recall@500 = 0.0360 valid_ndcg@500 = 0.0050\n"
     ]
    },
    {
     "name": "stderr",
     "output_type": "stream",
     "text": [
      "valid: 100%|███████████████████████████████████████████████████████████████████████████████████████████████████████████████████████████████████████████████| 1000/1000 [00:03<00:00, 296.10it/s]\n"
     ]
    },
    {
     "name": "stdout",
     "output_type": "stream",
     "text": [
      "epoch 6 train_loss = 2.1350 valid_recall@500 = 0.0290 valid_ndcg@500 = 0.0041\n"
     ]
    },
    {
     "name": "stderr",
     "output_type": "stream",
     "text": [
      "valid: 100%|███████████████████████████████████████████████████████████████████████████████████████████████████████████████████████████████████████████████| 1000/1000 [00:03<00:00, 296.77it/s]\n"
     ]
    },
    {
     "name": "stdout",
     "output_type": "stream",
     "text": [
      "epoch 7 train_loss = 1.9226 valid_recall@500 = 0.0260 valid_ndcg@500 = 0.0040\n"
     ]
    },
    {
     "name": "stderr",
     "output_type": "stream",
     "text": [
      "valid: 100%|███████████████████████████████████████████████████████████████████████████████████████████████████████████████████████████████████████████████| 1000/1000 [00:03<00:00, 296.60it/s]\n"
     ]
    },
    {
     "name": "stdout",
     "output_type": "stream",
     "text": [
      "epoch 8 train_loss = 1.6995 valid_recall@500 = 0.0370 valid_ndcg@500 = 0.0050\n"
     ]
    },
    {
     "name": "stderr",
     "output_type": "stream",
     "text": [
      "valid: 100%|███████████████████████████████████████████████████████████████████████████████████████████████████████████████████████████████████████████████| 1000/1000 [00:03<00:00, 296.39it/s]\n"
     ]
    },
    {
     "name": "stdout",
     "output_type": "stream",
     "text": [
      "Early stop at epoch:9\n"
     ]
    },
    {
     "name": "stderr",
     "output_type": "stream",
     "text": [
      "test: 100%|████████████████████████████████████████████████████████████████████████████████████████████████████████████████████████████████████████████████| 7543/7543 [00:25<00:00, 294.53it/s]"
     ]
    },
    {
     "name": "stdout",
     "output_type": "stream",
     "text": [
      "\n",
      "[SASRec]\t Test_Recall@500 = 0.0327 Test_NDCG@500 = 0.0047\n",
      "parmas : 908400\n"
     ]
    },
    {
     "name": "stderr",
     "output_type": "stream",
     "text": [
      "\n"
     ]
    }
   ],
   "source": [
    "\"\"\"\n",
    "SASRec\n",
    "\"\"\"\n",
    "from models.SASRec_sequential import SASRec_sequential\n",
    "\n",
    "seed_everything(seed)\n",
    "SASRec = SASRec_sequential(user_train_music, user_valid_music, user_num=num_users, item_num=num_items, hidden_dim=50, maxlen=20, num_blocks=1, num_heads=1,\n",
    "                            num_epochs=100, eval_every=1, early_stop_trial=5, learning_rate=0.001, reg_lambda=0.0, batch_size=128, device=device, top_k = 500)\n",
    "SASRec.fit()\n",
    "SASRec_ndcg, SASRec_recall = eval_sequential(SASRec, user_train_music, user_valid_music, user_test_music, num_users, num_items, top_k, mode='test')\n",
    "print(f\"\\n[SASRec]\\t Test_Recall@{top_k} = {SASRec_recall:.4f} Test_NDCG@{top_k} = {SASRec_ndcg:.4f}\")\n",
    "print(\"parmas :\", sum(p.numel() for p in SASRec.parameters() if p.requires_grad))"
   ]
  },
  {
   "cell_type": "code",
   "execution_count": 20,
   "id": "6e05e41b",
   "metadata": {},
   "outputs": [
    {
     "name": "stderr",
     "output_type": "stream",
     "text": [
      "valid: 100%|███████████████████████████████████████████████████████████████████████████████████████████████████████████████████████████████████████████████| 1000/1000 [00:05<00:00, 188.49it/s]\n"
     ]
    },
    {
     "name": "stdout",
     "output_type": "stream",
     "text": [
      "epoch 1 train_loss = 9.7569 valid_recall@500 = 0.1320 valid_ndcg@500 = 0.0191\n"
     ]
    },
    {
     "name": "stderr",
     "output_type": "stream",
     "text": [
      "valid: 100%|███████████████████████████████████████████████████████████████████████████████████████████████████████████████████████████████████████████████| 1000/1000 [00:04<00:00, 204.56it/s]\n"
     ]
    },
    {
     "name": "stdout",
     "output_type": "stream",
     "text": [
      "epoch 2 train_loss = 9.7260 valid_recall@500 = 0.1400 valid_ndcg@500 = 0.0220\n"
     ]
    },
    {
     "name": "stderr",
     "output_type": "stream",
     "text": [
      "valid: 100%|███████████████████████████████████████████████████████████████████████████████████████████████████████████████████████████████████████████████| 1000/1000 [00:04<00:00, 219.88it/s]\n"
     ]
    },
    {
     "name": "stdout",
     "output_type": "stream",
     "text": [
      "epoch 3 train_loss = 9.3358 valid_recall@500 = 0.1610 valid_ndcg@500 = 0.0261\n"
     ]
    },
    {
     "name": "stderr",
     "output_type": "stream",
     "text": [
      "valid: 100%|███████████████████████████████████████████████████████████████████████████████████████████████████████████████████████████████████████████████| 1000/1000 [00:05<00:00, 191.45it/s]\n"
     ]
    },
    {
     "name": "stdout",
     "output_type": "stream",
     "text": [
      "epoch 4 train_loss = 9.4227 valid_recall@500 = 0.1650 valid_ndcg@500 = 0.0239\n"
     ]
    },
    {
     "name": "stderr",
     "output_type": "stream",
     "text": [
      "valid: 100%|███████████████████████████████████████████████████████████████████████████████████████████████████████████████████████████████████████████████| 1000/1000 [00:05<00:00, 195.31it/s]\n"
     ]
    },
    {
     "name": "stdout",
     "output_type": "stream",
     "text": [
      "epoch 5 train_loss = 9.5329 valid_recall@500 = 0.1790 valid_ndcg@500 = 0.0279\n"
     ]
    },
    {
     "name": "stderr",
     "output_type": "stream",
     "text": [
      "valid: 100%|███████████████████████████████████████████████████████████████████████████████████████████████████████████████████████████████████████████████| 1000/1000 [00:04<00:00, 204.88it/s]\n"
     ]
    },
    {
     "name": "stdout",
     "output_type": "stream",
     "text": [
      "epoch 6 train_loss = 9.2483 valid_recall@500 = 0.1810 valid_ndcg@500 = 0.0281\n"
     ]
    },
    {
     "name": "stderr",
     "output_type": "stream",
     "text": [
      "valid: 100%|███████████████████████████████████████████████████████████████████████████████████████████████████████████████████████████████████████████████| 1000/1000 [00:04<00:00, 219.98it/s]\n"
     ]
    },
    {
     "name": "stdout",
     "output_type": "stream",
     "text": [
      "epoch 7 train_loss = 9.2564 valid_recall@500 = 0.1960 valid_ndcg@500 = 0.0308\n"
     ]
    },
    {
     "name": "stderr",
     "output_type": "stream",
     "text": [
      "valid: 100%|███████████████████████████████████████████████████████████████████████████████████████████████████████████████████████████████████████████████| 1000/1000 [00:04<00:00, 221.43it/s]\n"
     ]
    },
    {
     "name": "stdout",
     "output_type": "stream",
     "text": [
      "epoch 8 train_loss = 9.1356 valid_recall@500 = 0.2150 valid_ndcg@500 = 0.0350\n"
     ]
    },
    {
     "name": "stderr",
     "output_type": "stream",
     "text": [
      "valid: 100%|███████████████████████████████████████████████████████████████████████████████████████████████████████████████████████████████████████████████| 1000/1000 [00:05<00:00, 191.86it/s]\n"
     ]
    },
    {
     "name": "stdout",
     "output_type": "stream",
     "text": [
      "epoch 9 train_loss = 9.0890 valid_recall@500 = 0.2310 valid_ndcg@500 = 0.0393\n"
     ]
    },
    {
     "name": "stderr",
     "output_type": "stream",
     "text": [
      "valid: 100%|███████████████████████████████████████████████████████████████████████████████████████████████████████████████████████████████████████████████| 1000/1000 [00:04<00:00, 221.28it/s]\n"
     ]
    },
    {
     "name": "stdout",
     "output_type": "stream",
     "text": [
      "epoch 10 train_loss = 9.0293 valid_recall@500 = 0.2390 valid_ndcg@500 = 0.0404\n"
     ]
    },
    {
     "name": "stderr",
     "output_type": "stream",
     "text": [
      "valid: 100%|███████████████████████████████████████████████████████████████████████████████████████████████████████████████████████████████████████████████| 1000/1000 [00:04<00:00, 205.55it/s]\n"
     ]
    },
    {
     "name": "stdout",
     "output_type": "stream",
     "text": [
      "epoch 11 train_loss = 8.7711 valid_recall@500 = 0.2330 valid_ndcg@500 = 0.0393\n"
     ]
    },
    {
     "name": "stderr",
     "output_type": "stream",
     "text": [
      "valid: 100%|███████████████████████████████████████████████████████████████████████████████████████████████████████████████████████████████████████████████| 1000/1000 [00:04<00:00, 219.53it/s]\n"
     ]
    },
    {
     "name": "stdout",
     "output_type": "stream",
     "text": [
      "epoch 12 train_loss = 8.9409 valid_recall@500 = 0.2460 valid_ndcg@500 = 0.0431\n"
     ]
    },
    {
     "name": "stderr",
     "output_type": "stream",
     "text": [
      "valid: 100%|███████████████████████████████████████████████████████████████████████████████████████████████████████████████████████████████████████████████| 1000/1000 [00:04<00:00, 218.97it/s]\n"
     ]
    },
    {
     "name": "stdout",
     "output_type": "stream",
     "text": [
      "epoch 13 train_loss = 8.9062 valid_recall@500 = 0.2520 valid_ndcg@500 = 0.0432\n"
     ]
    },
    {
     "name": "stderr",
     "output_type": "stream",
     "text": [
      "valid: 100%|███████████████████████████████████████████████████████████████████████████████████████████████████████████████████████████████████████████████| 1000/1000 [00:05<00:00, 191.30it/s]\n"
     ]
    },
    {
     "name": "stdout",
     "output_type": "stream",
     "text": [
      "epoch 14 train_loss = 8.9857 valid_recall@500 = 0.2370 valid_ndcg@500 = 0.0400\n"
     ]
    },
    {
     "name": "stderr",
     "output_type": "stream",
     "text": [
      "valid: 100%|███████████████████████████████████████████████████████████████████████████████████████████████████████████████████████████████████████████████| 1000/1000 [00:04<00:00, 218.06it/s]\n"
     ]
    },
    {
     "name": "stdout",
     "output_type": "stream",
     "text": [
      "epoch 15 train_loss = 9.0525 valid_recall@500 = 0.2300 valid_ndcg@500 = 0.0352\n"
     ]
    },
    {
     "name": "stderr",
     "output_type": "stream",
     "text": [
      "valid: 100%|███████████████████████████████████████████████████████████████████████████████████████████████████████████████████████████████████████████████| 1000/1000 [00:04<00:00, 213.76it/s]\n"
     ]
    },
    {
     "name": "stdout",
     "output_type": "stream",
     "text": [
      "epoch 16 train_loss = 8.8058 valid_recall@500 = 0.2560 valid_ndcg@500 = 0.0409\n"
     ]
    },
    {
     "name": "stderr",
     "output_type": "stream",
     "text": [
      "valid: 100%|███████████████████████████████████████████████████████████████████████████████████████████████████████████████████████████████████████████████| 1000/1000 [00:04<00:00, 204.43it/s]\n"
     ]
    },
    {
     "name": "stdout",
     "output_type": "stream",
     "text": [
      "epoch 17 train_loss = 8.7496 valid_recall@500 = 0.2520 valid_ndcg@500 = 0.0438\n"
     ]
    },
    {
     "name": "stderr",
     "output_type": "stream",
     "text": [
      "valid: 100%|███████████████████████████████████████████████████████████████████████████████████████████████████████████████████████████████████████████████| 1000/1000 [00:04<00:00, 209.94it/s]\n"
     ]
    },
    {
     "name": "stdout",
     "output_type": "stream",
     "text": [
      "epoch 18 train_loss = 8.8472 valid_recall@500 = 0.2900 valid_ndcg@500 = 0.0511\n"
     ]
    },
    {
     "name": "stderr",
     "output_type": "stream",
     "text": [
      "valid: 100%|███████████████████████████████████████████████████████████████████████████████████████████████████████████████████████████████████████████████| 1000/1000 [00:04<00:00, 219.15it/s]\n"
     ]
    },
    {
     "name": "stdout",
     "output_type": "stream",
     "text": [
      "epoch 19 train_loss = 8.6440 valid_recall@500 = 0.2940 valid_ndcg@500 = 0.0492\n"
     ]
    },
    {
     "name": "stderr",
     "output_type": "stream",
     "text": [
      "valid: 100%|███████████████████████████████████████████████████████████████████████████████████████████████████████████████████████████████████████████████| 1000/1000 [00:04<00:00, 211.79it/s]\n"
     ]
    },
    {
     "name": "stdout",
     "output_type": "stream",
     "text": [
      "epoch 20 train_loss = 8.5393 valid_recall@500 = 0.2920 valid_ndcg@500 = 0.0509\n"
     ]
    },
    {
     "name": "stderr",
     "output_type": "stream",
     "text": [
      "valid: 100%|███████████████████████████████████████████████████████████████████████████████████████████████████████████████████████████████████████████████| 1000/1000 [00:04<00:00, 219.78it/s]\n"
     ]
    },
    {
     "name": "stdout",
     "output_type": "stream",
     "text": [
      "epoch 21 train_loss = 8.3861 valid_recall@500 = 0.3000 valid_ndcg@500 = 0.0481\n"
     ]
    },
    {
     "name": "stderr",
     "output_type": "stream",
     "text": [
      "valid: 100%|███████████████████████████████████████████████████████████████████████████████████████████████████████████████████████████████████████████████| 1000/1000 [00:04<00:00, 223.24it/s]\n"
     ]
    },
    {
     "name": "stdout",
     "output_type": "stream",
     "text": [
      "epoch 22 train_loss = 8.6633 valid_recall@500 = 0.3020 valid_ndcg@500 = 0.0512\n"
     ]
    },
    {
     "name": "stderr",
     "output_type": "stream",
     "text": [
      "valid: 100%|███████████████████████████████████████████████████████████████████████████████████████████████████████████████████████████████████████████████| 1000/1000 [00:04<00:00, 220.45it/s]\n"
     ]
    },
    {
     "name": "stdout",
     "output_type": "stream",
     "text": [
      "epoch 23 train_loss = 8.5323 valid_recall@500 = 0.3160 valid_ndcg@500 = 0.0514\n"
     ]
    },
    {
     "name": "stderr",
     "output_type": "stream",
     "text": [
      "valid: 100%|███████████████████████████████████████████████████████████████████████████████████████████████████████████████████████████████████████████████| 1000/1000 [00:04<00:00, 220.83it/s]\n"
     ]
    },
    {
     "name": "stdout",
     "output_type": "stream",
     "text": [
      "epoch 24 train_loss = 8.5811 valid_recall@500 = 0.3030 valid_ndcg@500 = 0.0555\n"
     ]
    },
    {
     "name": "stderr",
     "output_type": "stream",
     "text": [
      "valid: 100%|███████████████████████████████████████████████████████████████████████████████████████████████████████████████████████████████████████████████| 1000/1000 [00:04<00:00, 206.79it/s]\n"
     ]
    },
    {
     "name": "stdout",
     "output_type": "stream",
     "text": [
      "epoch 25 train_loss = 8.3316 valid_recall@500 = 0.3280 valid_ndcg@500 = 0.0579\n"
     ]
    },
    {
     "name": "stderr",
     "output_type": "stream",
     "text": [
      "valid: 100%|███████████████████████████████████████████████████████████████████████████████████████████████████████████████████████████████████████████████| 1000/1000 [00:04<00:00, 221.43it/s]\n"
     ]
    },
    {
     "name": "stdout",
     "output_type": "stream",
     "text": [
      "epoch 26 train_loss = 8.2879 valid_recall@500 = 0.3260 valid_ndcg@500 = 0.0541\n"
     ]
    },
    {
     "name": "stderr",
     "output_type": "stream",
     "text": [
      "valid: 100%|███████████████████████████████████████████████████████████████████████████████████████████████████████████████████████████████████████████████| 1000/1000 [00:04<00:00, 221.20it/s]\n"
     ]
    },
    {
     "name": "stdout",
     "output_type": "stream",
     "text": [
      "epoch 27 train_loss = 8.2802 valid_recall@500 = 0.3230 valid_ndcg@500 = 0.0557\n"
     ]
    },
    {
     "name": "stderr",
     "output_type": "stream",
     "text": [
      "valid: 100%|███████████████████████████████████████████████████████████████████████████████████████████████████████████████████████████████████████████████| 1000/1000 [00:04<00:00, 221.36it/s]\n"
     ]
    },
    {
     "name": "stdout",
     "output_type": "stream",
     "text": [
      "epoch 28 train_loss = 8.2457 valid_recall@500 = 0.3590 valid_ndcg@500 = 0.0613\n"
     ]
    },
    {
     "name": "stderr",
     "output_type": "stream",
     "text": [
      "valid: 100%|███████████████████████████████████████████████████████████████████████████████████████████████████████████████████████████████████████████████| 1000/1000 [00:04<00:00, 221.15it/s]\n"
     ]
    },
    {
     "name": "stdout",
     "output_type": "stream",
     "text": [
      "epoch 29 train_loss = 8.1900 valid_recall@500 = 0.3580 valid_ndcg@500 = 0.0654\n"
     ]
    },
    {
     "name": "stderr",
     "output_type": "stream",
     "text": [
      "valid: 100%|███████████████████████████████████████████████████████████████████████████████████████████████████████████████████████████████████████████████| 1000/1000 [00:04<00:00, 221.44it/s]\n"
     ]
    },
    {
     "name": "stdout",
     "output_type": "stream",
     "text": [
      "epoch 30 train_loss = 8.2949 valid_recall@500 = 0.3170 valid_ndcg@500 = 0.0548\n"
     ]
    },
    {
     "name": "stderr",
     "output_type": "stream",
     "text": [
      "valid: 100%|███████████████████████████████████████████████████████████████████████████████████████████████████████████████████████████████████████████████| 1000/1000 [00:04<00:00, 220.92it/s]\n"
     ]
    },
    {
     "name": "stdout",
     "output_type": "stream",
     "text": [
      "epoch 31 train_loss = 8.1306 valid_recall@500 = 0.3370 valid_ndcg@500 = 0.0595\n"
     ]
    },
    {
     "name": "stderr",
     "output_type": "stream",
     "text": [
      "valid: 100%|███████████████████████████████████████████████████████████████████████████████████████████████████████████████████████████████████████████████| 1000/1000 [00:04<00:00, 220.16it/s]\n"
     ]
    },
    {
     "name": "stdout",
     "output_type": "stream",
     "text": [
      "epoch 32 train_loss = 8.2482 valid_recall@500 = 0.3390 valid_ndcg@500 = 0.0586\n"
     ]
    },
    {
     "name": "stderr",
     "output_type": "stream",
     "text": [
      "valid: 100%|███████████████████████████████████████████████████████████████████████████████████████████████████████████████████████████████████████████████| 1000/1000 [00:04<00:00, 220.81it/s]\n"
     ]
    },
    {
     "name": "stdout",
     "output_type": "stream",
     "text": [
      "Early stop at epoch:33\n"
     ]
    },
    {
     "name": "stderr",
     "output_type": "stream",
     "text": [
      "test: 100%|████████████████████████████████████████████████████████████████████████████████████████████████████████████████████████████████████████████████| 7543/7543 [00:31<00:00, 240.37it/s]"
     ]
    },
    {
     "name": "stdout",
     "output_type": "stream",
     "text": [
      "\n",
      "[BERTRec]\t Test_Recall@500 = 0.3263 Test_NDCG@500 = 0.0530\n",
      "parmas : 10455086\n"
     ]
    },
    {
     "name": "stderr",
     "output_type": "stream",
     "text": [
      "\n"
     ]
    }
   ],
   "source": [
    "\"\"\"\n",
    "BERT4Rec\n",
    "\"\"\"\n",
    "from models.BERTRec_sequential import BERTRec_sequential\n",
    "\n",
    "seed_everything(seed)\n",
    "BERTRec = BERTRec_sequential(user_train_music, user_valid_music, user_num=num_users, item_num=num_items, hidden=50*5, maxlen=50, n_layers=2, heads=5, mask_prob=0.1,\n",
    "                                num_epochs=100, eval_every=1, early_stop_trial=5, learning_rate=0.001, reg_lambda=0.0, batch_size=128, device=device, top_k =500)\n",
    "BERTRec.fit()\n",
    "BERTRec_ndcg, BERTRec_recall = eval_sequential(BERTRec, user_train_music, user_valid_music, user_test_music, num_users, num_items, top_k, mode='test')\n",
    "print(f\"\\n[BERTRec]\\t Test_Recall@{top_k} = {BERTRec_recall:.4f} Test_NDCG@{top_k} = {BERTRec_ndcg:.4f}\")\n",
    "print(\"parmas :\", sum(p.numel() for p in BERTRec.parameters() if p.requires_grad))"
   ]
  },
  {
   "cell_type": "code",
   "execution_count": null,
   "id": "6e031103",
   "metadata": {},
   "outputs": [],
   "source": []
  },
  {
   "cell_type": "code",
   "execution_count": null,
   "id": "1c8ca59c",
   "metadata": {},
   "outputs": [],
   "source": []
  },
  {
   "cell_type": "code",
   "execution_count": 21,
   "id": "9dfacd08",
   "metadata": {},
   "outputs": [],
   "source": [
    "train_rows = []\n",
    "for user in user_train_music:\n",
    "    for song in user_train_music[user]:\n",
    "        train_rows.append((user,song,1))\n",
    "train = pd.DataFrame(train_rows, columns = ['user_id', 'item_id', 'rating'])"
   ]
  },
  {
   "cell_type": "code",
   "execution_count": 22,
   "id": "e0a7a428",
   "metadata": {},
   "outputs": [],
   "source": [
    "valid_rows = []\n",
    "for user in user_valid_music:\n",
    "    for song in user_valid_music[user]:\n",
    "        valid_rows.append((user,song,1))\n",
    "valid = pd.DataFrame(valid_rows, columns = ['user_id', 'item_id', 'rating'])"
   ]
  },
  {
   "cell_type": "code",
   "execution_count": 23,
   "id": "59cf60bf",
   "metadata": {},
   "outputs": [],
   "source": [
    "test_rows = []\n",
    "for user in user_test_music:\n",
    "    for song in user_test_music[user]:\n",
    "        test_rows.append((user,song,1))\n",
    "test = pd.DataFrame(test_rows, columns = ['user_id', 'item_id', 'rating'])"
   ]
  },
  {
   "cell_type": "code",
   "execution_count": 24,
   "id": "7ecdff92",
   "metadata": {},
   "outputs": [],
   "source": [
    "train = train.to_numpy()\n",
    "valid = valid.to_numpy()\n",
    "test = test.to_numpy()\n",
    "\n",
    "matrix = sparse.lil_matrix((num_users, num_items))\n",
    "for (u, i, r) in train:\n",
    "    matrix[u, i] = r\n",
    "train = sparse.csr_matrix(matrix)\n",
    "\n",
    "matrix = sparse.lil_matrix((num_users, num_items))\n",
    "for (u, i, r) in valid:\n",
    "    matrix[u, i] = r\n",
    "valid = sparse.csr_matrix(matrix)\n",
    "\n",
    "matrix = sparse.lil_matrix((num_users, num_items))\n",
    "for (u, i, r) in test:\n",
    "    matrix[u, i] = r\n",
    "test = sparse.csr_matrix(matrix)\n",
    "\n",
    "# train = train.toarray()\n",
    "# valid = valid.toarray()\n",
    "# test = test.toarray()"
   ]
  },
  {
   "cell_type": "code",
   "execution_count": 25,
   "id": "73dc5242",
   "metadata": {},
   "outputs": [],
   "source": [
    "train = train+valid"
   ]
  },
  {
   "cell_type": "code",
   "execution_count": 26,
   "id": "902c1c92",
   "metadata": {},
   "outputs": [],
   "source": [
    "top_k = 500"
   ]
  },
  {
   "cell_type": "code",
   "execution_count": 27,
   "id": "c67ac8e8",
   "metadata": {},
   "outputs": [],
   "source": [
    "\"\"\"\n",
    "Embarrassingly shallow autoencoders for sparse data, \n",
    "Harald Steck,\n",
    "Arxiv.\n",
    "\"\"\"\n",
    "import os\n",
    "import math\n",
    "import numpy as np\n",
    "\n",
    "class EASE_implicit():\n",
    "    def __init__(self, train, valid, reg_lambda):\n",
    "        self.train = train.toarray()\n",
    "        self.valid = valid.toarray()\n",
    "        self.num_users = train.shape[0]\n",
    "        self.num_items = train.shape[1]\n",
    "        self.reg_lambda = reg_lambda\n",
    "\n",
    "    def fit(self):   \n",
    "        train_matrix = self.train\n",
    "        G = train_matrix.T @ train_matrix\n",
    "        diag = np.diag_indices(G.shape[0])\n",
    "        G[diag] += self.reg_lambda\n",
    "        P = np.linalg.inv(G)\n",
    "        \n",
    "\n",
    "        self.enc_w = P / (-np.diag(P)) \n",
    "        self.enc_w[diag] = 0\n",
    "\n",
    "\n",
    "        self.reconstructed = self.train @ self.enc_w\n",
    "\n",
    "    def predict(self, user_id, item_ids):\n",
    "        return self.reconstructed[user_id, item_ids]"
   ]
  },
  {
   "cell_type": "code",
   "execution_count": 28,
   "id": "7eaa86c6",
   "metadata": {},
   "outputs": [],
   "source": [
    "\"\"\"\n",
    "EASE\n",
    "\"\"\"\n",
    "# from models.EASE_implicit import EASE_implicit\n",
    "from utils import eval_implicit\n",
    "seed_everything(seed)\n",
    "ease = EASE_implicit(train=train, valid=valid, reg_lambda=100)\n",
    "ease.fit()"
   ]
  },
  {
   "cell_type": "code",
   "execution_count": 29,
   "id": "63bc80e6",
   "metadata": {},
   "outputs": [
    {
     "name": "stdout",
     "output_type": "stream",
     "text": [
      "EASE Prec@100: 0.001033, Recall@100: 0.516638, NDCG@100: 0.120273\n"
     ]
    }
   ],
   "source": [
    "ease_prec, ease_recall, ease_ndcg = eval_implicit(ease, train.toarray(), test.toarray(), 500)\n",
    "print(\"EASE Prec@100: %f, Recall@100: %f, NDCG@100: %f\"%(ease_prec, ease_recall, ease_ndcg))"
   ]
  },
  {
   "cell_type": "code",
   "execution_count": null,
   "id": "9997d288",
   "metadata": {},
   "outputs": [],
   "source": []
  }
 ],
 "metadata": {
  "kernelspec": {
   "display_name": "Python 3",
   "language": "python",
   "name": "python3"
  },
  "language_info": {
   "codemirror_mode": {
    "name": "ipython",
    "version": 3
   },
   "file_extension": ".py",
   "mimetype": "text/x-python",
   "name": "python",
   "nbconvert_exporter": "python",
   "pygments_lexer": "ipython3",
   "version": "3.7.7"
  }
 },
 "nbformat": 4,
 "nbformat_minor": 5
}
