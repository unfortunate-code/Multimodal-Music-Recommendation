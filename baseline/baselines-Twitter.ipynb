{
 "cells": [
  {
   "cell_type": "code",
   "execution_count": 1,
   "id": "750c4720",
   "metadata": {},
   "outputs": [],
   "source": [
    "import os\n",
    "import warnings\n",
    "import random\n",
    "from os.path import join\n",
    "import torch\n",
    "import numpy as np\n",
    "import pandas as pd\n",
    "from scipy import sparse\n",
    "from collections import OrderedDict"
   ]
  },
  {
   "cell_type": "code",
   "execution_count": 2,
   "id": "b6bcb422",
   "metadata": {},
   "outputs": [
    {
     "data": {
      "text/plain": [
       "'1.9.0'"
      ]
     },
     "execution_count": 2,
     "metadata": {},
     "output_type": "execute_result"
    }
   ],
   "source": [
    "torch.__version__"
   ]
  },
  {
   "cell_type": "code",
   "execution_count": 3,
   "id": "403dcdb0",
   "metadata": {},
   "outputs": [
    {
     "name": "stderr",
     "output_type": "stream",
     "text": [
      "Using backend: pytorch\n"
     ]
    }
   ],
   "source": [
    "\n",
    "from utils import load_data_sequential\n",
    "from utils import eval_sequential\n",
    "import warnings\n",
    "import random\n",
    "from os.path import join\n",
    "import torch\n",
    "import numpy as np\n",
    "\n",
    "\n",
    "warnings.filterwarnings('ignore')\n",
    "\n",
    "\n",
    "def seed_everything(random_seed):\n",
    "    torch.manual_seed(random_seed)\n",
    "    torch.cuda.manual_seed(random_seed)\n",
    "    torch.cuda.manual_seed_all(random_seed)\n",
    "    torch.backends.cudnn.deterministic = True\n",
    "    torch.backends.cudnn.benchmark = False\n",
    "    np.random.seed(random_seed)\n",
    "    random.seed(random_seed)\n",
    "\n",
    "seed = 1\n",
    "seed_everything(seed)\n",
    "device = torch.device(\"cuda\" if torch.cuda.is_available() else \"cpu\")\n",
    "\n",
    "top_k = 20"
   ]
  },
  {
   "cell_type": "code",
   "execution_count": 4,
   "id": "e4fe898d",
   "metadata": {},
   "outputs": [],
   "source": [
    "import json\n",
    "import re\n",
    "with open('../usrlog.txt', 'r') as f:\n",
    "    data = f.read()\n",
    "    data = data.replace(\"\\'\", \"\\\"\")"
   ]
  },
  {
   "cell_type": "code",
   "execution_count": 6,
   "id": "0c2161aa",
   "metadata": {},
   "outputs": [
    {
     "name": "stdout",
     "output_type": "stream",
     "text": [
      "<class 'dict'>\n"
     ]
    }
   ],
   "source": [
    "import ast\n",
    "\n",
    "data = ast.literal_eval(data)\n",
    "print(type(data))"
   ]
  },
  {
   "cell_type": "code",
   "execution_count": 7,
   "id": "80640b56",
   "metadata": {},
   "outputs": [],
   "source": [
    "playlists = data.values()"
   ]
  },
  {
   "cell_type": "code",
   "execution_count": 8,
   "id": "e1fd1f09",
   "metadata": {},
   "outputs": [],
   "source": [
    "playlists = [list(OrderedDict.fromkeys(l)) for l in playlists]"
   ]
  },
  {
   "cell_type": "code",
   "execution_count": 9,
   "id": "64553b58",
   "metadata": {},
   "outputs": [],
   "source": [
    "playlists = [i for i in playlists if len(i)>2]"
   ]
  },
  {
   "cell_type": "code",
   "execution_count": 10,
   "id": "666f9c45",
   "metadata": {},
   "outputs": [
    {
     "data": {
      "text/plain": [
       "58730"
      ]
     },
     "execution_count": 10,
     "metadata": {},
     "output_type": "execute_result"
    }
   ],
   "source": [
    "len(playlists)"
   ]
  },
  {
   "cell_type": "code",
   "execution_count": 11,
   "id": "2b4bd57e",
   "metadata": {},
   "outputs": [],
   "source": [
    "song_set = set()\n",
    "song_counter = dict()\n",
    "for l in playlists:\n",
    "    for song in l:\n",
    "        song_set.add(song)\n",
    "        song_counter[song] = song_counter.get(song, 0) + 1"
   ]
  },
  {
   "cell_type": "code",
   "execution_count": 12,
   "id": "4437364f",
   "metadata": {},
   "outputs": [
    {
     "data": {
      "text/plain": [
       "119061"
      ]
     },
     "execution_count": 12,
     "metadata": {},
     "output_type": "execute_result"
    }
   ],
   "source": [
    "len(song_set)"
   ]
  },
  {
   "cell_type": "code",
   "execution_count": 13,
   "id": "fcb86504",
   "metadata": {},
   "outputs": [],
   "source": [
    "freq_song_list = [k for (k, v) in list(song_counter.items()) if v > 5]"
   ]
  },
  {
   "cell_type": "code",
   "execution_count": 14,
   "id": "3fa290fd",
   "metadata": {},
   "outputs": [],
   "source": [
    "freq2id = dict()\n",
    "for idx, i in enumerate(freq_song_list):\n",
    "    freq2id[i] = idx"
   ]
  },
  {
   "cell_type": "code",
   "execution_count": 15,
   "id": "be1a1560",
   "metadata": {},
   "outputs": [],
   "source": [
    "freq_playlists = [[s for s in l if s in freq_song_list] for l in playlists]"
   ]
  },
  {
   "cell_type": "code",
   "execution_count": null,
   "id": "34499181",
   "metadata": {},
   "outputs": [],
   "source": []
  },
  {
   "cell_type": "code",
   "execution_count": 16,
   "id": "1d52c455",
   "metadata": {},
   "outputs": [],
   "source": [
    "freq_playlists = [i for i in freq_playlists if len(i)>2]"
   ]
  },
  {
   "cell_type": "code",
   "execution_count": 17,
   "id": "1b485c64",
   "metadata": {},
   "outputs": [],
   "source": [
    "freq_playlists = [[freq2id[s] for s in l] for l in freq_playlists]"
   ]
  },
  {
   "cell_type": "code",
   "execution_count": 18,
   "id": "eec285cc",
   "metadata": {},
   "outputs": [
    {
     "data": {
      "text/plain": [
       "46803"
      ]
     },
     "execution_count": 18,
     "metadata": {},
     "output_type": "execute_result"
    }
   ],
   "source": [
    "len( freq_playlists)"
   ]
  },
  {
   "cell_type": "code",
   "execution_count": 19,
   "id": "6ab58a68",
   "metadata": {},
   "outputs": [
    {
     "data": {
      "text/plain": [
       "46803"
      ]
     },
     "execution_count": 19,
     "metadata": {},
     "output_type": "execute_result"
    }
   ],
   "source": [
    "len(freq_playlists)"
   ]
  },
  {
   "cell_type": "code",
   "execution_count": 20,
   "id": "ecce1fd8",
   "metadata": {},
   "outputs": [],
   "source": [
    "count = 0\n",
    "for i in freq_playlists:\n",
    "    count+=len(i)"
   ]
  },
  {
   "cell_type": "code",
   "execution_count": 21,
   "id": "0d5a343b",
   "metadata": {},
   "outputs": [
    {
     "data": {
      "text/plain": [
       "0.9994851217262174"
      ]
     },
     "execution_count": 21,
     "metadata": {},
     "output_type": "execute_result"
    }
   ],
   "source": [
    "1 - count / len(freq_playlists) / 15984"
   ]
  },
  {
   "cell_type": "code",
   "execution_count": 22,
   "id": "2d332082",
   "metadata": {},
   "outputs": [],
   "source": [
    "top_k = 500"
   ]
  },
  {
   "cell_type": "code",
   "execution_count": 23,
   "id": "d23ca917",
   "metadata": {},
   "outputs": [
    {
     "name": "stdout",
     "output_type": "stream",
     "text": [
      "# of users: 46803,  # of items: 15984\n"
     ]
    }
   ],
   "source": [
    "num_users = len(freq_playlists)\n",
    "num_items = len(freq_song_list)\n",
    "\n",
    "print(f\"# of users: {num_users},  # of items: {num_items}\")\n",
    "\n",
    "music_data = dict()\n",
    "for idx, i in enumerate(freq_playlists):\n",
    "    music_data[idx] = i\n",
    "    \n",
    "    \n",
    "user_train_music = dict()\n",
    "user_valid_music = dict()\n",
    "user_test_music = dict()\n",
    "\n",
    "for u in music_data:\n",
    "    user_valid_music[u] = [music_data[u][-2]]\n",
    "    user_test_music[u] = [music_data[u][-1]]\n",
    "    user_train_music[u] = music_data[u][:-2]"
   ]
  },
  {
   "cell_type": "code",
   "execution_count": 24,
   "id": "dd959717",
   "metadata": {},
   "outputs": [
    {
     "data": {
      "text/plain": [
       "500"
      ]
     },
     "execution_count": 24,
     "metadata": {},
     "output_type": "execute_result"
    }
   ],
   "source": [
    "top_k = 500\n",
    "top_k"
   ]
  },
  {
   "cell_type": "code",
   "execution_count": 25,
   "id": "4ffe19f0",
   "metadata": {},
   "outputs": [
    {
     "name": "stderr",
     "output_type": "stream",
     "text": [
      "100%|████████████████████████████████████████████████████████████████████████████████████████████████████████████████████████████████████████████████████████| 366/366 [00:02<00:00, 157.65it/s]\n",
      "valid: 100%|███████████████████████████████████████████████████████████████████████████████████████████████████████████████████████████████████████████████| 1000/1000 [00:02<00:00, 410.88it/s]\n"
     ]
    },
    {
     "name": "stdout",
     "output_type": "stream",
     "text": [
      "epoch 1 train_loss = 0.59549397 valid_recall@500 = 0.3070 valid_ndcg@500 = 0.0591\n"
     ]
    },
    {
     "name": "stderr",
     "output_type": "stream",
     "text": [
      "100%|████████████████████████████████████████████████████████████████████████████████████████████████████████████████████████████████████████████████████████| 366/366 [00:01<00:00, 186.43it/s]\n",
      "valid: 100%|███████████████████████████████████████████████████████████████████████████████████████████████████████████████████████████████████████████████| 1000/1000 [00:02<00:00, 402.03it/s]\n"
     ]
    },
    {
     "name": "stdout",
     "output_type": "stream",
     "text": [
      "epoch 2 train_loss = 0.50070167 valid_recall@500 = 0.2860 valid_ndcg@500 = 0.0511\n"
     ]
    },
    {
     "name": "stderr",
     "output_type": "stream",
     "text": [
      "100%|████████████████████████████████████████████████████████████████████████████████████████████████████████████████████████████████████████████████████████| 366/366 [00:02<00:00, 157.44it/s]\n",
      "valid: 100%|███████████████████████████████████████████████████████████████████████████████████████████████████████████████████████████████████████████████| 1000/1000 [00:02<00:00, 399.06it/s]\n"
     ]
    },
    {
     "name": "stdout",
     "output_type": "stream",
     "text": [
      "epoch 3 train_loss = 0.44391146 valid_recall@500 = 0.2970 valid_ndcg@500 = 0.0527\n"
     ]
    },
    {
     "name": "stderr",
     "output_type": "stream",
     "text": [
      "100%|████████████████████████████████████████████████████████████████████████████████████████████████████████████████████████████████████████████████████████| 366/366 [00:02<00:00, 157.15it/s]\n",
      "valid: 100%|███████████████████████████████████████████████████████████████████████████████████████████████████████████████████████████████████████████████| 1000/1000 [00:02<00:00, 393.53it/s]\n"
     ]
    },
    {
     "name": "stdout",
     "output_type": "stream",
     "text": [
      "epoch 4 train_loss = 0.24649423 valid_recall@500 = 0.3060 valid_ndcg@500 = 0.0554\n"
     ]
    },
    {
     "name": "stderr",
     "output_type": "stream",
     "text": [
      "100%|████████████████████████████████████████████████████████████████████████████████████████████████████████████████████████████████████████████████████████| 366/366 [00:02<00:00, 160.32it/s]\n",
      "valid: 100%|███████████████████████████████████████████████████████████████████████████████████████████████████████████████████████████████████████████████| 1000/1000 [00:02<00:00, 394.72it/s]\n"
     ]
    },
    {
     "name": "stdout",
     "output_type": "stream",
     "text": [
      "epoch 5 train_loss = 0.15677644 valid_recall@500 = 0.3020 valid_ndcg@500 = 0.0556\n"
     ]
    },
    {
     "name": "stderr",
     "output_type": "stream",
     "text": [
      "100%|████████████████████████████████████████████████████████████████████████████████████████████████████████████████████████████████████████████████████████| 366/366 [00:02<00:00, 158.94it/s]\n",
      "valid: 100%|███████████████████████████████████████████████████████████████████████████████████████████████████████████████████████████████████████████████| 1000/1000 [00:02<00:00, 392.47it/s]\n"
     ]
    },
    {
     "name": "stdout",
     "output_type": "stream",
     "text": [
      "Early stop at epoch:6\n"
     ]
    },
    {
     "name": "stderr",
     "output_type": "stream",
     "text": [
      "test: 100%|██████████████████████████████████████████████████████████████████████████████████████████████████████████████████████████████████████████████| 46803/46803 [02:07<00:00, 367.90it/s]"
     ]
    },
    {
     "name": "stdout",
     "output_type": "stream",
     "text": [
      "\n",
      "[TransRec]\t Test_Recall@500 = 0.2592 Test_NDCG@500 = 0.0472\n",
      "parmas : 12573584\n",
      "======================================\n"
     ]
    },
    {
     "name": "stderr",
     "output_type": "stream",
     "text": [
      "\n"
     ]
    }
   ],
   "source": [
    "\n",
    "from models.TransRec_sequential import TransRec_sequential\n",
    "\n",
    "seed_everything(seed)\n",
    "TransRec = TransRec_sequential(user_train_music, user_valid_music, user_num=num_users, item_num=num_items, emb_dim=200, maxlen=1,\n",
    "                                num_epochs=100, eval_every=1, early_stop_trial=5, learning_rate=0.001, reg_lambda=0.0, batch_size=128, device=device, top_k = 500)\n",
    "TransRec.fit()\n",
    "TransRec_ndcg, TransRec_recall = eval_sequential(TransRec, user_train_music, user_valid_music, user_test_music, num_users, num_items, 500, mode='test')\n",
    "print(f\"\\n[TransRec]\\t Test_Recall@{top_k} = {TransRec_recall:.4f} Test_NDCG@{top_k} = {TransRec_ndcg:.4f}\")\n",
    "print(\"parmas :\", sum(p.numel() for p in TransRec.parameters() if p.requires_grad))\n",
    "print(\"======================================\")"
   ]
  },
  {
   "cell_type": "code",
   "execution_count": 26,
   "id": "b10f5103",
   "metadata": {},
   "outputs": [
    {
     "name": "stderr",
     "output_type": "stream",
     "text": [
      "valid: 100%|███████████████████████████████████████████████████████████████████████████████████████████████████████████████████████████████████████████████| 1000/1000 [00:03<00:00, 301.42it/s]\n"
     ]
    },
    {
     "name": "stdout",
     "output_type": "stream",
     "text": [
      "epoch 1 train_loss = 2.5220 valid_recall@500 = 0.0440 valid_ndcg@500 = 0.0056\n"
     ]
    },
    {
     "name": "stderr",
     "output_type": "stream",
     "text": [
      "valid: 100%|███████████████████████████████████████████████████████████████████████████████████████████████████████████████████████████████████████████████| 1000/1000 [00:03<00:00, 301.87it/s]\n"
     ]
    },
    {
     "name": "stdout",
     "output_type": "stream",
     "text": [
      "epoch 2 train_loss = 1.5141 valid_recall@500 = 0.0460 valid_ndcg@500 = 0.0063\n"
     ]
    },
    {
     "name": "stderr",
     "output_type": "stream",
     "text": [
      "valid: 100%|███████████████████████████████████████████████████████████████████████████████████████████████████████████████████████████████████████████████| 1000/1000 [00:03<00:00, 301.72it/s]\n"
     ]
    },
    {
     "name": "stdout",
     "output_type": "stream",
     "text": [
      "epoch 3 train_loss = 1.3796 valid_recall@500 = 0.0480 valid_ndcg@500 = 0.0068\n"
     ]
    },
    {
     "name": "stderr",
     "output_type": "stream",
     "text": [
      "valid: 100%|███████████████████████████████████████████████████████████████████████████████████████████████████████████████████████████████████████████████| 1000/1000 [00:03<00:00, 301.51it/s]\n"
     ]
    },
    {
     "name": "stdout",
     "output_type": "stream",
     "text": [
      "epoch 4 train_loss = 1.3591 valid_recall@500 = 0.0760 valid_ndcg@500 = 0.0112\n"
     ]
    },
    {
     "name": "stderr",
     "output_type": "stream",
     "text": [
      "valid: 100%|███████████████████████████████████████████████████████████████████████████████████████████████████████████████████████████████████████████████| 1000/1000 [00:03<00:00, 303.49it/s]\n"
     ]
    },
    {
     "name": "stdout",
     "output_type": "stream",
     "text": [
      "epoch 5 train_loss = 1.3288 valid_recall@500 = 0.1090 valid_ndcg@500 = 0.0158\n"
     ]
    },
    {
     "name": "stderr",
     "output_type": "stream",
     "text": [
      "valid: 100%|███████████████████████████████████████████████████████████████████████████████████████████████████████████████████████████████████████████████| 1000/1000 [00:03<00:00, 303.05it/s]\n"
     ]
    },
    {
     "name": "stdout",
     "output_type": "stream",
     "text": [
      "epoch 6 train_loss = 1.3100 valid_recall@500 = 0.1380 valid_ndcg@500 = 0.0215\n"
     ]
    },
    {
     "name": "stderr",
     "output_type": "stream",
     "text": [
      "valid: 100%|███████████████████████████████████████████████████████████████████████████████████████████████████████████████████████████████████████████████| 1000/1000 [00:03<00:00, 302.77it/s]\n"
     ]
    },
    {
     "name": "stdout",
     "output_type": "stream",
     "text": [
      "epoch 7 train_loss = 1.2693 valid_recall@500 = 0.1730 valid_ndcg@500 = 0.0335\n"
     ]
    },
    {
     "name": "stderr",
     "output_type": "stream",
     "text": [
      "valid: 100%|███████████████████████████████████████████████████████████████████████████████████████████████████████████████████████████████████████████████| 1000/1000 [00:03<00:00, 302.02it/s]\n"
     ]
    },
    {
     "name": "stdout",
     "output_type": "stream",
     "text": [
      "epoch 8 train_loss = 1.2468 valid_recall@500 = 0.2010 valid_ndcg@500 = 0.0362\n"
     ]
    },
    {
     "name": "stderr",
     "output_type": "stream",
     "text": [
      "valid: 100%|███████████████████████████████████████████████████████████████████████████████████████████████████████████████████████████████████████████████| 1000/1000 [00:03<00:00, 302.42it/s]\n"
     ]
    },
    {
     "name": "stdout",
     "output_type": "stream",
     "text": [
      "epoch 9 train_loss = 1.1868 valid_recall@500 = 0.2380 valid_ndcg@500 = 0.0425\n"
     ]
    },
    {
     "name": "stderr",
     "output_type": "stream",
     "text": [
      "valid: 100%|███████████████████████████████████████████████████████████████████████████████████████████████████████████████████████████████████████████████| 1000/1000 [00:03<00:00, 302.67it/s]\n"
     ]
    },
    {
     "name": "stdout",
     "output_type": "stream",
     "text": [
      "epoch 10 train_loss = 1.1509 valid_recall@500 = 0.2740 valid_ndcg@500 = 0.0464\n"
     ]
    },
    {
     "name": "stderr",
     "output_type": "stream",
     "text": [
      "valid: 100%|███████████████████████████████████████████████████████████████████████████████████████████████████████████████████████████████████████████████| 1000/1000 [00:03<00:00, 301.97it/s]\n"
     ]
    },
    {
     "name": "stdout",
     "output_type": "stream",
     "text": [
      "epoch 11 train_loss = 1.1251 valid_recall@500 = 0.2900 valid_ndcg@500 = 0.0521\n"
     ]
    },
    {
     "name": "stderr",
     "output_type": "stream",
     "text": [
      "valid: 100%|███████████████████████████████████████████████████████████████████████████████████████████████████████████████████████████████████████████████| 1000/1000 [00:03<00:00, 302.44it/s]\n"
     ]
    },
    {
     "name": "stdout",
     "output_type": "stream",
     "text": [
      "epoch 12 train_loss = 1.1022 valid_recall@500 = 0.2680 valid_ndcg@500 = 0.0507\n"
     ]
    },
    {
     "name": "stderr",
     "output_type": "stream",
     "text": [
      "valid: 100%|███████████████████████████████████████████████████████████████████████████████████████████████████████████████████████████████████████████████| 1000/1000 [00:03<00:00, 300.23it/s]\n"
     ]
    },
    {
     "name": "stdout",
     "output_type": "stream",
     "text": [
      "epoch 13 train_loss = 1.0995 valid_recall@500 = 0.3010 valid_ndcg@500 = 0.0536\n"
     ]
    },
    {
     "name": "stderr",
     "output_type": "stream",
     "text": [
      "valid: 100%|███████████████████████████████████████████████████████████████████████████████████████████████████████████████████████████████████████████████| 1000/1000 [00:03<00:00, 299.99it/s]\n"
     ]
    },
    {
     "name": "stdout",
     "output_type": "stream",
     "text": [
      "epoch 14 train_loss = 1.0764 valid_recall@500 = 0.2700 valid_ndcg@500 = 0.0520\n"
     ]
    },
    {
     "name": "stderr",
     "output_type": "stream",
     "text": [
      "valid: 100%|███████████████████████████████████████████████████████████████████████████████████████████████████████████████████████████████████████████████| 1000/1000 [00:03<00:00, 301.83it/s]\n"
     ]
    },
    {
     "name": "stdout",
     "output_type": "stream",
     "text": [
      "epoch 15 train_loss = 1.1124 valid_recall@500 = 0.2750 valid_ndcg@500 = 0.0500\n"
     ]
    },
    {
     "name": "stderr",
     "output_type": "stream",
     "text": [
      "valid: 100%|███████████████████████████████████████████████████████████████████████████████████████████████████████████████████████████████████████████████| 1000/1000 [00:03<00:00, 301.02it/s]\n"
     ]
    },
    {
     "name": "stdout",
     "output_type": "stream",
     "text": [
      "epoch 16 train_loss = 1.0205 valid_recall@500 = 0.3020 valid_ndcg@500 = 0.0546\n"
     ]
    },
    {
     "name": "stderr",
     "output_type": "stream",
     "text": [
      "valid: 100%|███████████████████████████████████████████████████████████████████████████████████████████████████████████████████████████████████████████████| 1000/1000 [00:03<00:00, 301.84it/s]\n"
     ]
    },
    {
     "name": "stdout",
     "output_type": "stream",
     "text": [
      "epoch 17 train_loss = 1.0713 valid_recall@500 = 0.3190 valid_ndcg@500 = 0.0602\n"
     ]
    },
    {
     "name": "stderr",
     "output_type": "stream",
     "text": [
      "valid: 100%|███████████████████████████████████████████████████████████████████████████████████████████████████████████████████████████████████████████████| 1000/1000 [00:03<00:00, 302.38it/s]\n"
     ]
    },
    {
     "name": "stdout",
     "output_type": "stream",
     "text": [
      "epoch 18 train_loss = 1.1110 valid_recall@500 = 0.3080 valid_ndcg@500 = 0.0575\n"
     ]
    },
    {
     "name": "stderr",
     "output_type": "stream",
     "text": [
      "valid: 100%|███████████████████████████████████████████████████████████████████████████████████████████████████████████████████████████████████████████████| 1000/1000 [00:03<00:00, 302.96it/s]\n"
     ]
    },
    {
     "name": "stdout",
     "output_type": "stream",
     "text": [
      "epoch 19 train_loss = 1.0838 valid_recall@500 = 0.2650 valid_ndcg@500 = 0.0479\n"
     ]
    },
    {
     "name": "stderr",
     "output_type": "stream",
     "text": [
      "valid: 100%|███████████████████████████████████████████████████████████████████████████████████████████████████████████████████████████████████████████████| 1000/1000 [00:03<00:00, 302.80it/s]\n"
     ]
    },
    {
     "name": "stdout",
     "output_type": "stream",
     "text": [
      "epoch 20 train_loss = 1.0362 valid_recall@500 = 0.2700 valid_ndcg@500 = 0.0471\n"
     ]
    },
    {
     "name": "stderr",
     "output_type": "stream",
     "text": [
      "valid: 100%|███████████████████████████████████████████████████████████████████████████████████████████████████████████████████████████████████████████████| 1000/1000 [00:03<00:00, 303.03it/s]\n"
     ]
    },
    {
     "name": "stdout",
     "output_type": "stream",
     "text": [
      "epoch 21 train_loss = 1.0769 valid_recall@500 = 0.2890 valid_ndcg@500 = 0.0559\n"
     ]
    },
    {
     "name": "stderr",
     "output_type": "stream",
     "text": [
      "valid: 100%|███████████████████████████████████████████████████████████████████████████████████████████████████████████████████████████████████████████████| 1000/1000 [00:03<00:00, 302.88it/s]\n"
     ]
    },
    {
     "name": "stdout",
     "output_type": "stream",
     "text": [
      "Early stop at epoch:22\n"
     ]
    },
    {
     "name": "stderr",
     "output_type": "stream",
     "text": [
      "test: 100%|██████████████████████████████████████████████████████████████████████████████████████████████████████████████████████████████████████████████| 46803/46803 [02:40<00:00, 291.74it/s]\n"
     ]
    },
    {
     "name": "stdout",
     "output_type": "stream",
     "text": [
      "\n",
      "[SASRec]\t Test_Recall@500 = 0.2620 Test_NDCG@500 = 0.0472\n",
      "parmas : 815850\n"
     ]
    }
   ],
   "source": [
    "\"\"\"\n",
    "SASRec\n",
    "\"\"\"\n",
    "from models.SASRec_sequential import SASRec_sequential\n",
    "\n",
    "seed_everything(seed)\n",
    "SASRec = SASRec_sequential(user_train_music, user_valid_music, user_num=num_users, item_num=num_items, hidden_dim=50, maxlen=20, num_blocks=1, num_heads=1,\n",
    "                            num_epochs=100, eval_every=1, early_stop_trial=5, learning_rate=0.001, reg_lambda=0.0, batch_size=128, device=device, top_k = 500)\n",
    "SASRec.fit()\n",
    "SASRec_ndcg, SASRec_recall = eval_sequential(SASRec, user_train_music, user_valid_music, user_test_music, num_users, num_items, top_k, mode='test')\n",
    "print(f\"\\n[SASRec]\\t Test_Recall@{top_k} = {SASRec_recall:.4f} Test_NDCG@{top_k} = {SASRec_ndcg:.4f}\")\n",
    "print(\"parmas :\", sum(p.numel() for p in SASRec.parameters() if p.requires_grad))"
   ]
  },
  {
   "cell_type": "code",
   "execution_count": 27,
   "id": "6e05e41b",
   "metadata": {},
   "outputs": [
    {
     "name": "stderr",
     "output_type": "stream",
     "text": [
      "valid: 100%|███████████████████████████████████████████████████████████████████████████████████████████████████████████████████████████████████████████████| 1000/1000 [00:04<00:00, 223.46it/s]\n"
     ]
    },
    {
     "name": "stdout",
     "output_type": "stream",
     "text": [
      "epoch 1 train_loss = 10.0465 valid_recall@500 = 0.2120 valid_ndcg@500 = 0.0385\n"
     ]
    },
    {
     "name": "stderr",
     "output_type": "stream",
     "text": [
      "valid: 100%|███████████████████████████████████████████████████████████████████████████████████████████████████████████████████████████████████████████████| 1000/1000 [00:04<00:00, 223.59it/s]\n"
     ]
    },
    {
     "name": "stdout",
     "output_type": "stream",
     "text": [
      "epoch 2 train_loss = 9.4063 valid_recall@500 = 0.3080 valid_ndcg@500 = 0.0567\n"
     ]
    },
    {
     "name": "stderr",
     "output_type": "stream",
     "text": [
      "valid: 100%|███████████████████████████████████████████████████████████████████████████████████████████████████████████████████████████████████████████████| 1000/1000 [00:04<00:00, 223.17it/s]\n"
     ]
    },
    {
     "name": "stdout",
     "output_type": "stream",
     "text": [
      "epoch 3 train_loss = 9.4383 valid_recall@500 = 0.2930 valid_ndcg@500 = 0.0565\n"
     ]
    },
    {
     "name": "stderr",
     "output_type": "stream",
     "text": [
      "valid: 100%|███████████████████████████████████████████████████████████████████████████████████████████████████████████████████████████████████████████████| 1000/1000 [00:04<00:00, 222.79it/s]\n"
     ]
    },
    {
     "name": "stdout",
     "output_type": "stream",
     "text": [
      "epoch 4 train_loss = 9.2207 valid_recall@500 = 0.2630 valid_ndcg@500 = 0.0464\n"
     ]
    },
    {
     "name": "stderr",
     "output_type": "stream",
     "text": [
      "valid: 100%|███████████████████████████████████████████████████████████████████████████████████████████████████████████████████████████████████████████████| 1000/1000 [00:04<00:00, 223.11it/s]\n"
     ]
    },
    {
     "name": "stdout",
     "output_type": "stream",
     "text": [
      "epoch 5 train_loss = 8.4803 valid_recall@500 = 0.3080 valid_ndcg@500 = 0.0605\n"
     ]
    },
    {
     "name": "stderr",
     "output_type": "stream",
     "text": [
      "valid: 100%|███████████████████████████████████████████████████████████████████████████████████████████████████████████████████████████████████████████████| 1000/1000 [00:04<00:00, 222.96it/s]\n"
     ]
    },
    {
     "name": "stdout",
     "output_type": "stream",
     "text": [
      "epoch 6 train_loss = 9.4751 valid_recall@500 = 0.2640 valid_ndcg@500 = 0.0512\n"
     ]
    },
    {
     "name": "stderr",
     "output_type": "stream",
     "text": [
      "valid: 100%|███████████████████████████████████████████████████████████████████████████████████████████████████████████████████████████████████████████████| 1000/1000 [00:04<00:00, 224.18it/s]\n"
     ]
    },
    {
     "name": "stdout",
     "output_type": "stream",
     "text": [
      "Early stop at epoch:7\n"
     ]
    },
    {
     "name": "stderr",
     "output_type": "stream",
     "text": [
      "test: 100%|██████████████████████████████████████████████████████████████████████████████████████████████████████████████████████████████████████████████| 46803/46803 [03:16<00:00, 238.32it/s]"
     ]
    },
    {
     "name": "stdout",
     "output_type": "stream",
     "text": [
      "\n",
      "[BERTRec]\t Test_Recall@500 = 0.2463 Test_NDCG@500 = 0.0451\n",
      "parmas : 9527735\n"
     ]
    },
    {
     "name": "stderr",
     "output_type": "stream",
     "text": [
      "\n"
     ]
    }
   ],
   "source": [
    "\"\"\"\n",
    "BERT4Rec\n",
    "\"\"\"\n",
    "from models.BERTRec_sequential import BERTRec_sequential\n",
    "\n",
    "seed_everything(seed)\n",
    "BERTRec = BERTRec_sequential(user_train_music, user_valid_music, user_num=num_users, item_num=num_items, hidden=50*5, maxlen=50, n_layers=2, heads=5, mask_prob=0.1,\n",
    "                                num_epochs=100, eval_every=1, early_stop_trial=5, learning_rate=0.001, reg_lambda=0.0, batch_size=128, device=device, top_k = 500)\n",
    "BERTRec.fit()\n",
    "BERTRec_ndcg, BERTRec_recall = eval_sequential(BERTRec, user_train_music, user_valid_music, user_test_music, num_users, num_items, top_k, mode='test')\n",
    "print(f\"\\n[BERTRec]\\t Test_Recall@{top_k} = {BERTRec_recall:.4f} Test_NDCG@{top_k} = {BERTRec_ndcg:.4f}\")\n",
    "print(\"parmas :\", sum(p.numel() for p in BERTRec.parameters() if p.requires_grad))"
   ]
  },
  {
   "cell_type": "code",
   "execution_count": null,
   "id": "6e031103",
   "metadata": {},
   "outputs": [],
   "source": []
  },
  {
   "cell_type": "code",
   "execution_count": null,
   "id": "1c8ca59c",
   "metadata": {},
   "outputs": [],
   "source": []
  },
  {
   "cell_type": "code",
   "execution_count": 28,
   "id": "9dfacd08",
   "metadata": {},
   "outputs": [],
   "source": [
    "train_rows = []\n",
    "for user in user_train_music:\n",
    "    for song in user_train_music[user]:\n",
    "        train_rows.append((user,song,1))\n",
    "train = pd.DataFrame(train_rows, columns = ['user_id', 'item_id', 'rating'])"
   ]
  },
  {
   "cell_type": "code",
   "execution_count": 29,
   "id": "e0a7a428",
   "metadata": {},
   "outputs": [],
   "source": [
    "valid_rows = []\n",
    "for user in user_valid_music:\n",
    "    for song in user_valid_music[user]:\n",
    "        valid_rows.append((user,song,1))\n",
    "valid = pd.DataFrame(valid_rows, columns = ['user_id', 'item_id', 'rating'])"
   ]
  },
  {
   "cell_type": "code",
   "execution_count": 30,
   "id": "59cf60bf",
   "metadata": {},
   "outputs": [],
   "source": [
    "test_rows = []\n",
    "for user in user_test_music:\n",
    "    for song in user_test_music[user]:\n",
    "        test_rows.append((user,song,1))\n",
    "test = pd.DataFrame(test_rows, columns = ['user_id', 'item_id', 'rating'])"
   ]
  },
  {
   "cell_type": "code",
   "execution_count": 31,
   "id": "7ecdff92",
   "metadata": {},
   "outputs": [],
   "source": [
    "train = train.to_numpy()\n",
    "valid = valid.to_numpy()\n",
    "test = test.to_numpy()\n",
    "\n",
    "matrix = sparse.lil_matrix((num_users, num_items))\n",
    "for (u, i, r) in train:\n",
    "    matrix[u, i] = r\n",
    "train = sparse.csr_matrix(matrix)\n",
    "\n",
    "matrix = sparse.lil_matrix((num_users, num_items))\n",
    "for (u, i, r) in valid:\n",
    "    matrix[u, i] = r\n",
    "valid = sparse.csr_matrix(matrix)\n",
    "\n",
    "matrix = sparse.lil_matrix((num_users, num_items))\n",
    "for (u, i, r) in test:\n",
    "    matrix[u, i] = r\n",
    "test = sparse.csr_matrix(matrix)\n",
    "\n",
    "# train = train.toarray()\n",
    "# valid = valid.toarray()\n",
    "# test = test.toarray()"
   ]
  },
  {
   "cell_type": "code",
   "execution_count": 32,
   "id": "73dc5242",
   "metadata": {},
   "outputs": [],
   "source": [
    "train = train+valid"
   ]
  },
  {
   "cell_type": "code",
   "execution_count": 33,
   "id": "902c1c92",
   "metadata": {},
   "outputs": [],
   "source": [
    "top_k = 500"
   ]
  },
  {
   "cell_type": "code",
   "execution_count": 34,
   "id": "c67ac8e8",
   "metadata": {},
   "outputs": [],
   "source": [
    "\"\"\"\n",
    "Embarrassingly shallow autoencoders for sparse data, \n",
    "Harald Steck,\n",
    "Arxiv.\n",
    "\"\"\"\n",
    "import os\n",
    "import math\n",
    "import numpy as np\n",
    "\n",
    "class EASE_implicit():\n",
    "    def __init__(self, train, valid, reg_lambda):\n",
    "        self.train = train.toarray()\n",
    "        self.valid = valid.toarray()\n",
    "        self.num_users = train.shape[0]\n",
    "        self.num_items = train.shape[1]\n",
    "        self.reg_lambda = reg_lambda\n",
    "\n",
    "    def fit(self):   \n",
    "        train_matrix = self.train\n",
    "        G = train_matrix.T @ train_matrix\n",
    "        diag = np.diag_indices(G.shape[0]) \n",
    "        G[diag] += self.reg_lambda \n",
    "        P = np.linalg.inv(G)\n",
    "        \n",
    "        \n",
    "        self.enc_w = P / (-np.diag(P)) \n",
    "        self.enc_w[diag] = 0\n",
    "\n",
    "        self.reconstructed = self.train @ self.enc_w\n",
    "\n",
    "    def predict(self, user_id, item_ids):\n",
    "        return self.reconstructed[user_id, item_ids]"
   ]
  },
  {
   "cell_type": "code",
   "execution_count": 35,
   "id": "7c16a4d2",
   "metadata": {},
   "outputs": [],
   "source": [
    "from utils import eval_implicit"
   ]
  },
  {
   "cell_type": "code",
   "execution_count": 36,
   "id": "ddf5513b",
   "metadata": {},
   "outputs": [],
   "source": [
    "\"\"\"\n",
    "EASE\n",
    "\"\"\"\n",
    "# from models.EASE_implicit import EASE_implicit\n",
    "\n",
    "seed_everything(seed)\n",
    "ease = EASE_implicit(train=train, valid=valid, reg_lambda=100)\n",
    "ease.fit()"
   ]
  },
  {
   "cell_type": "code",
   "execution_count": 37,
   "id": "6ad440ca",
   "metadata": {},
   "outputs": [
    {
     "name": "stdout",
     "output_type": "stream",
     "text": [
      "EASE Prec@20: 0.004302, Recall@20: 0.086041, NDCG@20: 0.037489\n"
     ]
    }
   ],
   "source": [
    "ease_prec, ease_recall, ease_ndcg = eval_implicit(ease, train.toarray(), test.toarray(), 20)\n",
    "print(\"EASE Prec@20: %f, Recall@20: %f, NDCG@20: %f\"%(ease_prec, ease_recall, ease_ndcg))"
   ]
  },
  {
   "cell_type": "code",
   "execution_count": 38,
   "id": "dfc90204",
   "metadata": {},
   "outputs": [
    {
     "name": "stdout",
     "output_type": "stream",
     "text": [
      "EASE Prec@50: 0.000639, Recall@50: 0.319552, NDCG@50: 0.072306\n"
     ]
    }
   ],
   "source": [
    "ease_prec, ease_recall, ease_ndcg = eval_implicit(ease, train.toarray(), test.toarray(), 500)\n",
    "print(\"EASE Prec@50: %f, Recall@50: %f, NDCG@50: %f\"%(ease_prec, ease_recall, ease_ndcg))"
   ]
  },
  {
   "cell_type": "code",
   "execution_count": null,
   "id": "63bc80e6",
   "metadata": {},
   "outputs": [],
   "source": []
  }
 ],
 "metadata": {
  "kernelspec": {
   "display_name": "Python 3",
   "language": "python",
   "name": "python3"
  },
  "language_info": {
   "codemirror_mode": {
    "name": "ipython",
    "version": 3
   },
   "file_extension": ".py",
   "mimetype": "text/x-python",
   "name": "python",
   "nbconvert_exporter": "python",
   "pygments_lexer": "ipython3",
   "version": "3.7.7"
  }
 },
 "nbformat": 4,
 "nbformat_minor": 5
}
